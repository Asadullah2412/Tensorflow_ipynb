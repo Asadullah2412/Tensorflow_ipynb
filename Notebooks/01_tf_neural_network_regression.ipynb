{
 "cells": [
  {
   "cell_type": "markdown",
   "metadata": {},
   "source": [
    "# Introduction to regression with Neural network"
   ]
  },
  {
   "cell_type": "code",
   "execution_count": 1,
   "metadata": {},
   "outputs": [
    {
     "name": "stdout",
     "output_type": "stream",
     "text": [
      "2.10.0\n"
     ]
    }
   ],
   "source": [
    "#  Import libraies \n",
    "import tensorflow as tf \n",
    "import tensorflow.keras #type: ignore\n",
    "# from tensorflow.keras.utlis import plot_model\n",
    "print(tf.__version__)\n",
    "\n",
    "import numpy as np \n",
    "import matplotlib.pyplot as plt "
   ]
  },
  {
   "cell_type": "code",
   "execution_count": 2,
   "metadata": {},
   "outputs": [
    {
     "data": {
      "text/plain": [
       "<matplotlib.collections.PathCollection at 0x1b8b2619820>"
      ]
     },
     "execution_count": 2,
     "metadata": {},
     "output_type": "execute_result"
    },
    {
     "data": {
      "image/png": "[encoded data removed]",
      "text/plain": [
       "<Figure size 640x480 with 1 Axes>"
      ]
     },
     "metadata": {},
     "output_type": "display_data"
    }
   ],
   "source": [
    "X = np.array([-7.0,-4.0,-1.0,2.0,5.0,8.0,11.0,14.0])\n",
    "y = np.array([3.0,6.0,9.0,12.0,15.0,18.0,21.0,24.0])\n",
    "\n",
    "plt.scatter(X,y)\n"
   ]
  },
  {
   "cell_type": "code",
   "execution_count": 3,
   "metadata": {},
   "outputs": [
    {
     "data": {
      "text/plain": [
       "array([ True,  True,  True,  True,  True,  True,  True,  True])"
      ]
     },
     "execution_count": 3,
     "metadata": {},
     "output_type": "execute_result"
    }
   ],
   "source": [
    "y ==  X+10 "
   ]
  },
  {
   "cell_type": "markdown",
   "metadata": {},
   "source": [
    "# Input and Output shape "
   ]
  },
  {
   "cell_type": "code",
   "execution_count": 4,
   "metadata": {},
   "outputs": [
    {
     "data": {
      "text/plain": [
       "(<tf.Tensor: shape=(3,), dtype=string, numpy=array([b'bedroom', b'bathroom', b'garage'], dtype=object)>,\n",
       " <tf.Tensor: shape=(1,), dtype=int32, numpy=array([939700])>)"
      ]
     },
     "execution_count": 4,
     "metadata": {},
     "output_type": "execute_result"
    }
   ],
   "source": [
    "# create a demo tensor for our houseing price prediction problem \n",
    "\n",
    "house_info = tf.constant(['bedroom','bathroom','garage'])\n",
    "house_price =tf.constant([939700])\n",
    "house_info,house_price"
   ]
  },
  {
   "cell_type": "code",
   "execution_count": 5,
   "metadata": {},
   "outputs": [
    {
     "data": {
      "text/plain": [
       "((8,), (8,))"
      ]
     },
     "execution_count": 5,
     "metadata": {},
     "output_type": "execute_result"
    }
   ],
   "source": [
    "input_shape = X.shape\n",
    "output_shape = y.shape\n",
    "\n",
    "input_shape,output_shape"
   ]
  },
  {
   "cell_type": "code",
   "execution_count": 6,
   "metadata": {},
   "outputs": [
    {
     "data": {
      "text/plain": [
       "(-7.0, 3.0)"
      ]
     },
     "execution_count": 6,
     "metadata": {},
     "output_type": "execute_result"
    }
   ],
   "source": [
    "X[0],y[0]"
   ]
  },
  {
   "cell_type": "code",
   "execution_count": 7,
   "metadata": {},
   "outputs": [
    {
     "data": {
      "text/plain": [
       "(<tf.Tensor: shape=(8,), dtype=float64, numpy=array([-7., -4., -1.,  2.,  5.,  8., 11., 14.])>,\n",
       " <tf.Tensor: shape=(8,), dtype=float64, numpy=array([ 3.,  6.,  9., 12., 15., 18., 21., 24.])>)"
      ]
     },
     "execution_count": 7,
     "metadata": {},
     "output_type": "execute_result"
    }
   ],
   "source": [
    "# turn our numpy arrays into tensors \n",
    "\n",
    "X = tf.constant(X)\n",
    "y = tf.constant(y)\n",
    "\n",
    "X,y"
   ]
  },
  {
   "cell_type": "code",
   "execution_count": 8,
   "metadata": {},
   "outputs": [
    {
     "data": {
      "text/plain": [
       "(TensorShape([]), TensorShape([]))"
      ]
     },
     "execution_count": 8,
     "metadata": {},
     "output_type": "execute_result"
    }
   ],
   "source": [
    "input_shape = X[0].shape\n",
    "output_shape = y[0].shape\n",
    "\n",
    "input_shape,output_shape"
   ]
  },
  {
   "cell_type": "markdown",
   "metadata": {},
   "source": [
    "# Steps in modelling with Tensorflow\n",
    "\n",
    "1. **Creating a model** -> Define the inout and output as well as the hidden layers of deep learning model\n",
    "2. **Compiling a model** -> define the loss function and the optimizer and evaluation metrics \n",
    "3. **fitting a model** -> lketting the model try to find patterns between X & y "
   ]
  },
  {
   "cell_type": "code",
   "execution_count": 9,
   "metadata": {},
   "outputs": [
    {
     "name": "stdout",
     "output_type": "stream",
     "text": [
      "Epoch 1/5\n",
      "1/1 [==============================] - 0s 256ms/step - loss: 20.7762 - mae: 20.7762\n",
      "Epoch 2/5\n",
      "1/1 [==============================] - 0s 3ms/step - loss: 20.4201 - mae: 20.4201\n",
      "Epoch 3/5\n",
      "1/1 [==============================] - 0s 4ms/step - loss: 20.1389 - mae: 20.1389\n",
      "Epoch 4/5\n",
      "1/1 [==============================] - 0s 4ms/step - loss: 19.8576 - mae: 19.8576\n",
      "Epoch 5/5\n",
      "1/1 [==============================] - 0s 3ms/step - loss: 19.5764 - mae: 19.5764\n"
     ]
    },
    {
     "data": {
      "text/plain": [
       "<keras.callbacks.History at 0x1b8b59ba250>"
      ]
     },
     "execution_count": 9,
     "metadata": {},
     "output_type": "execute_result"
    }
   ],
   "source": [
    "tf.random.set_seed(42)\n",
    "#  1. create a model \n",
    "\n",
    "model = tf.keras.Sequential([\n",
    "    tf.keras.layers.Dense(1)\n",
    "])\n",
    "#  2. complie the model \n",
    "\n",
    "model.compile(loss = tf.keras.losses.mae,\n",
    "              optimizer=tf.keras.optimizers.SGD(),\n",
    "              metrics = ['mae']\n",
    "              )\n",
    "# 3. fit the model \n",
    "\n",
    "model.fit(tf.expand_dims(X, axis=-1), y, epochs=5) "
   ]
  },
  {
   "cell_type": "code",
   "execution_count": 10,
   "metadata": {},
   "outputs": [
    {
     "data": {
      "text/plain": [
       "(<tf.Tensor: shape=(8,), dtype=float64, numpy=array([-7., -4., -1.,  2.,  5.,  8., 11., 14.])>,\n",
       " <tf.Tensor: shape=(8,), dtype=float64, numpy=array([ 3.,  6.,  9., 12., 15., 18., 21., 24.])>)"
      ]
     },
     "execution_count": 10,
     "metadata": {},
     "output_type": "execute_result"
    }
   ],
   "source": [
    "# check out X and y\n",
    "X,y"
   ]
  },
  {
   "cell_type": "code",
   "execution_count": 11,
   "metadata": {},
   "outputs": [
    {
     "name": "stdout",
     "output_type": "stream",
     "text": [
      "1/1 [==============================] - 0s 63ms/step\n"
     ]
    },
    {
     "data": {
      "text/plain": [
       "array([[-21.243689]], dtype=float32)"
      ]
     },
     "execution_count": 11,
     "metadata": {},
     "output_type": "execute_result"
    }
   ],
   "source": [
    "# try and make prediction using our model \n",
    "\n",
    "y_pred = model.predict([17.0])\n",
    "y_pred"
   ]
  },
  {
   "cell_type": "code",
   "execution_count": 12,
   "metadata": {},
   "outputs": [
    {
     "data": {
      "text/plain": [
       "array([[-7.2436886]], dtype=float32)"
      ]
     },
     "execution_count": 12,
     "metadata": {},
     "output_type": "execute_result"
    }
   ],
   "source": [
    "y_pred + 14"
   ]
  },
  {
   "cell_type": "markdown",
   "metadata": {},
   "source": [
    "# Improving the model"
   ]
  },
  {
   "cell_type": "code",
   "execution_count": 13,
   "metadata": {},
   "outputs": [
    {
     "name": "stdout",
     "output_type": "stream",
     "text": [
      "Epoch 1/100\n",
      "1/1 [==============================] - 0s 161ms/step - loss: 11.6798 - mae: 11.6798\n",
      "Epoch 2/100\n",
      "1/1 [==============================] - 0s 4ms/step - loss: 11.5473 - mae: 11.5473\n",
      "Epoch 3/100\n",
      "1/1 [==============================] - 0s 3ms/step - loss: 11.4148 - mae: 11.4148\n",
      "Epoch 4/100\n",
      "1/1 [==============================] - 0s 4ms/step - loss: 11.2823 - mae: 11.2823\n",
      "Epoch 5/100\n",
      "1/1 [==============================] - 0s 3ms/step - loss: 11.1498 - mae: 11.1498\n",
      "Epoch 6/100\n",
      "1/1 [==============================] - 0s 4ms/step - loss: 11.0173 - mae: 11.0173\n",
      "Epoch 7/100\n",
      "1/1 [==============================] - 0s 3ms/step - loss: 10.8848 - mae: 10.8848\n",
      "Epoch 8/100\n",
      "1/1 [==============================] - 0s 3ms/step - loss: 10.7523 - mae: 10.7523\n",
      "Epoch 9/100\n",
      "1/1 [==============================] - 0s 3ms/step - loss: 10.6198 - mae: 10.6198\n",
      "Epoch 10/100\n",
      "1/1 [==============================] - 0s 4ms/step - loss: 10.4873 - mae: 10.4873\n",
      "Epoch 11/100\n",
      "1/1 [==============================] - 0s 4ms/step - loss: 10.3548 - mae: 10.3548\n",
      "Epoch 12/100\n",
      "1/1 [==============================] - 0s 3ms/step - loss: 10.2223 - mae: 10.2223\n",
      "Epoch 13/100\n",
      "1/1 [==============================] - 0s 3ms/step - loss: 10.0898 - mae: 10.0898\n",
      "Epoch 14/100\n",
      "1/1 [==============================] - 0s 3ms/step - loss: 9.9573 - mae: 9.9573\n",
      "Epoch 15/100\n",
      "1/1 [==============================] - 0s 4ms/step - loss: 9.8248 - mae: 9.8248\n",
      "Epoch 16/100\n",
      "1/1 [==============================] - 0s 3ms/step - loss: 9.6923 - mae: 9.6923\n",
      "Epoch 17/100\n",
      "1/1 [==============================] - 0s 4ms/step - loss: 9.5598 - mae: 9.5598\n",
      "Epoch 18/100\n",
      "1/1 [==============================] - 0s 4ms/step - loss: 9.4273 - mae: 9.4273\n",
      "Epoch 19/100\n",
      "1/1 [==============================] - 0s 3ms/step - loss: 9.2948 - mae: 9.2948\n",
      "Epoch 20/100\n",
      "1/1 [==============================] - 0s 4ms/step - loss: 9.1623 - mae: 9.1623\n",
      "Epoch 21/100\n",
      "1/1 [==============================] - 0s 4ms/step - loss: 9.0298 - mae: 9.0298\n",
      "Epoch 22/100\n",
      "1/1 [==============================] - 0s 3ms/step - loss: 8.8973 - mae: 8.8973\n",
      "Epoch 23/100\n",
      "1/1 [==============================] - 0s 4ms/step - loss: 8.7648 - mae: 8.7648\n",
      "Epoch 24/100\n",
      "1/1 [==============================] - 0s 5ms/step - loss: 8.6323 - mae: 8.6323\n",
      "Epoch 25/100\n",
      "1/1 [==============================] - 0s 4ms/step - loss: 8.4998 - mae: 8.4998\n",
      "Epoch 26/100\n",
      "1/1 [==============================] - 0s 4ms/step - loss: 8.3673 - mae: 8.3673\n",
      "Epoch 27/100\n",
      "1/1 [==============================] - 0s 4ms/step - loss: 8.2348 - mae: 8.2348\n",
      "Epoch 28/100\n",
      "1/1 [==============================] - 0s 3ms/step - loss: 8.1023 - mae: 8.1023\n",
      "Epoch 29/100\n",
      "1/1 [==============================] - 0s 3ms/step - loss: 7.9698 - mae: 7.9698\n",
      "Epoch 30/100\n",
      "1/1 [==============================] - 0s 3ms/step - loss: 7.8373 - mae: 7.8373\n",
      "Epoch 31/100\n",
      "1/1 [==============================] - 0s 3ms/step - loss: 7.7048 - mae: 7.7048\n",
      "Epoch 32/100\n",
      "1/1 [==============================] - 0s 4ms/step - loss: 7.5723 - mae: 7.5723\n",
      "Epoch 33/100\n",
      "1/1 [==============================] - 0s 3ms/step - loss: 7.4398 - mae: 7.4398\n",
      "Epoch 34/100\n",
      "1/1 [==============================] - 0s 3ms/step - loss: 7.3073 - mae: 7.3073\n",
      "Epoch 35/100\n",
      "1/1 [==============================] - 0s 4ms/step - loss: 7.2450 - mae: 7.2450\n",
      "Epoch 36/100\n",
      "1/1 [==============================] - 0s 3ms/step - loss: 7.2394 - mae: 7.2394\n",
      "Epoch 37/100\n",
      "1/1 [==============================] - 0s 3ms/step - loss: 7.2337 - mae: 7.2337\n",
      "Epoch 38/100\n",
      "1/1 [==============================] - 0s 4ms/step - loss: 7.2281 - mae: 7.2281\n",
      "Epoch 39/100\n",
      "1/1 [==============================] - 0s 4ms/step - loss: 7.2225 - mae: 7.2225\n",
      "Epoch 40/100\n",
      "1/1 [==============================] - 0s 4ms/step - loss: 7.2169 - mae: 7.2169\n",
      "Epoch 41/100\n",
      "1/1 [==============================] - 0s 4ms/step - loss: 7.2112 - mae: 7.2112\n",
      "Epoch 42/100\n",
      "1/1 [==============================] - 0s 3ms/step - loss: 7.2056 - mae: 7.2056\n",
      "Epoch 43/100\n",
      "1/1 [==============================] - 0s 3ms/step - loss: 7.2000 - mae: 7.2000\n",
      "Epoch 44/100\n",
      "1/1 [==============================] - 0s 3ms/step - loss: 7.1944 - mae: 7.1944\n",
      "Epoch 45/100\n",
      "1/1 [==============================] - 0s 4ms/step - loss: 7.1888 - mae: 7.1888\n",
      "Epoch 46/100\n",
      "1/1 [==============================] - 0s 3ms/step - loss: 7.1831 - mae: 7.1831\n",
      "Epoch 47/100\n",
      "1/1 [==============================] - 0s 3ms/step - loss: 7.1775 - mae: 7.1775\n",
      "Epoch 48/100\n",
      "1/1 [==============================] - 0s 3ms/step - loss: 7.1719 - mae: 7.1719\n",
      "Epoch 49/100\n",
      "1/1 [==============================] - 0s 4ms/step - loss: 7.1663 - mae: 7.1663\n",
      "Epoch 50/100\n",
      "1/1 [==============================] - 0s 3ms/step - loss: 7.1606 - mae: 7.1606\n",
      "Epoch 51/100\n",
      "1/1 [==============================] - 0s 4ms/step - loss: 7.1550 - mae: 7.1550\n",
      "Epoch 52/100\n",
      "1/1 [==============================] - 0s 4ms/step - loss: 7.1494 - mae: 7.1494\n",
      "Epoch 53/100\n",
      "1/1 [==============================] - 0s 4ms/step - loss: 7.1438 - mae: 7.1438\n",
      "Epoch 54/100\n",
      "1/1 [==============================] - 0s 3ms/step - loss: 7.1381 - mae: 7.1381\n",
      "Epoch 55/100\n",
      "1/1 [==============================] - 0s 3ms/step - loss: 7.1325 - mae: 7.1325\n",
      "Epoch 56/100\n",
      "1/1 [==============================] - 0s 4ms/step - loss: 7.1269 - mae: 7.1269\n",
      "Epoch 57/100\n",
      "1/1 [==============================] - 0s 3ms/step - loss: 7.1213 - mae: 7.1213\n",
      "Epoch 58/100\n",
      "1/1 [==============================] - 0s 3ms/step - loss: 7.1156 - mae: 7.1156\n",
      "Epoch 59/100\n",
      "1/1 [==============================] - 0s 4ms/step - loss: 7.1100 - mae: 7.1100\n",
      "Epoch 60/100\n",
      "1/1 [==============================] - 0s 3ms/step - loss: 7.1044 - mae: 7.1044\n",
      "Epoch 61/100\n",
      "1/1 [==============================] - 0s 4ms/step - loss: 7.0987 - mae: 7.0987\n",
      "Epoch 62/100\n",
      "1/1 [==============================] - 0s 3ms/step - loss: 7.0931 - mae: 7.0931\n",
      "Epoch 63/100\n",
      "1/1 [==============================] - 0s 4ms/step - loss: 7.0875 - mae: 7.0875\n",
      "Epoch 64/100\n",
      "1/1 [==============================] - 0s 4ms/step - loss: 7.0819 - mae: 7.0819\n",
      "Epoch 65/100\n",
      "1/1 [==============================] - 0s 3ms/step - loss: 7.0763 - mae: 7.0763\n",
      "Epoch 66/100\n",
      "1/1 [==============================] - 0s 5ms/step - loss: 7.0706 - mae: 7.0706\n",
      "Epoch 67/100\n",
      "1/1 [==============================] - 0s 3ms/step - loss: 7.0650 - mae: 7.0650\n",
      "Epoch 68/100\n",
      "1/1 [==============================] - 0s 3ms/step - loss: 7.0594 - mae: 7.0594\n",
      "Epoch 69/100\n",
      "1/1 [==============================] - 0s 3ms/step - loss: 7.0538 - mae: 7.0538\n",
      "Epoch 70/100\n",
      "1/1 [==============================] - 0s 4ms/step - loss: 7.0481 - mae: 7.0481\n",
      "Epoch 71/100\n",
      "1/1 [==============================] - 0s 3ms/step - loss: 7.0425 - mae: 7.0425\n",
      "Epoch 72/100\n",
      "1/1 [==============================] - 0s 4ms/step - loss: 7.0369 - mae: 7.0369\n",
      "Epoch 73/100\n",
      "1/1 [==============================] - 0s 3ms/step - loss: 7.0312 - mae: 7.0312\n",
      "Epoch 74/100\n",
      "1/1 [==============================] - 0s 3ms/step - loss: 7.0256 - mae: 7.0256\n",
      "Epoch 75/100\n",
      "1/1 [==============================] - 0s 4ms/step - loss: 7.0200 - mae: 7.0200\n",
      "Epoch 76/100\n",
      "1/1 [==============================] - 0s 4ms/step - loss: 7.0144 - mae: 7.0144\n",
      "Epoch 77/100\n",
      "1/1 [==============================] - 0s 4ms/step - loss: 7.0087 - mae: 7.0087\n",
      "Epoch 78/100\n",
      "1/1 [==============================] - 0s 3ms/step - loss: 7.0031 - mae: 7.0031\n",
      "Epoch 79/100\n",
      "1/1 [==============================] - 0s 4ms/step - loss: 6.9975 - mae: 6.9975\n",
      "Epoch 80/100\n",
      "1/1 [==============================] - 0s 3ms/step - loss: 6.9919 - mae: 6.9919\n",
      "Epoch 81/100\n",
      "1/1 [==============================] - 0s 4ms/step - loss: 6.9862 - mae: 6.9862\n",
      "Epoch 82/100\n",
      "1/1 [==============================] - 0s 3ms/step - loss: 6.9806 - mae: 6.9806\n",
      "Epoch 83/100\n",
      "1/1 [==============================] - 0s 8ms/step - loss: 6.9750 - mae: 6.9750\n",
      "Epoch 84/100\n",
      "1/1 [==============================] - 0s 5ms/step - loss: 6.9694 - mae: 6.9694\n",
      "Epoch 85/100\n",
      "1/1 [==============================] - 0s 4ms/step - loss: 6.9638 - mae: 6.9638\n",
      "Epoch 86/100\n",
      "1/1 [==============================] - 0s 4ms/step - loss: 6.9581 - mae: 6.9581\n",
      "Epoch 87/100\n",
      "1/1 [==============================] - 0s 3ms/step - loss: 6.9525 - mae: 6.9525\n",
      "Epoch 88/100\n",
      "1/1 [==============================] - 0s 4ms/step - loss: 6.9469 - mae: 6.9469\n",
      "Epoch 89/100\n",
      "1/1 [==============================] - 0s 3ms/step - loss: 6.9413 - mae: 6.9413\n",
      "Epoch 90/100\n",
      "1/1 [==============================] - 0s 3ms/step - loss: 6.9356 - mae: 6.9356\n",
      "Epoch 91/100\n",
      "1/1 [==============================] - 0s 3ms/step - loss: 6.9300 - mae: 6.9300\n",
      "Epoch 92/100\n",
      "1/1 [==============================] - 0s 3ms/step - loss: 6.9244 - mae: 6.9244\n",
      "Epoch 93/100\n",
      "1/1 [==============================] - 0s 3ms/step - loss: 6.9187 - mae: 6.9187\n",
      "Epoch 94/100\n",
      "1/1 [==============================] - 0s 4ms/step - loss: 6.9131 - mae: 6.9131\n",
      "Epoch 95/100\n",
      "1/1 [==============================] - 0s 3ms/step - loss: 6.9075 - mae: 6.9075\n",
      "Epoch 96/100\n",
      "1/1 [==============================] - 0s 4ms/step - loss: 6.9019 - mae: 6.9019\n",
      "Epoch 97/100\n",
      "1/1 [==============================] - 0s 3ms/step - loss: 6.8963 - mae: 6.8963\n",
      "Epoch 98/100\n",
      "1/1 [==============================] - 0s 3ms/step - loss: 6.8906 - mae: 6.8906\n",
      "Epoch 99/100\n",
      "1/1 [==============================] - 0s 3ms/step - loss: 6.8850 - mae: 6.8850\n",
      "Epoch 100/100\n",
      "1/1 [==============================] - 0s 4ms/step - loss: 6.8794 - mae: 6.8794\n"
     ]
    },
    {
     "data": {
      "text/plain": [
       "<keras.callbacks.History at 0x1b8b6ff0c40>"
      ]
     },
     "execution_count": 13,
     "metadata": {},
     "output_type": "execute_result"
    }
   ],
   "source": [
    "tf.random.set_seed(42)\n",
    "#  1. create a model \n",
    "\n",
    "model = tf.keras.Sequential([\n",
    "    tf.keras.layers.Dense(1)\n",
    "])\n",
    "#  2. complie the model \n",
    "\n",
    "model.compile(loss = tf.keras.losses.mae,\n",
    "              optimizer=tf.keras.optimizers.SGD(),\n",
    "              metrics = ['mae']\n",
    "              )\n",
    "# 3. fit the model \n",
    "\n",
    "model.fit(tf.expand_dims(X, axis=-1), y, epochs=100) "
   ]
  },
  {
   "cell_type": "code",
   "execution_count": 14,
   "metadata": {},
   "outputs": [
    {
     "data": {
      "text/plain": [
       "(<tf.Tensor: shape=(8,), dtype=float64, numpy=array([-7., -4., -1.,  2.,  5.,  8., 11., 14.])>,\n",
       " <tf.Tensor: shape=(8,), dtype=float64, numpy=array([ 3.,  6.,  9., 12., 15., 18., 21., 24.])>)"
      ]
     },
     "execution_count": 14,
     "metadata": {},
     "output_type": "execute_result"
    }
   ],
   "source": [
    "X,y"
   ]
  },
  {
   "cell_type": "code",
   "execution_count": 15,
   "metadata": {},
   "outputs": [
    {
     "name": "stdout",
     "output_type": "stream",
     "text": [
      "1/1 [==============================] - 0s 43ms/step\n"
     ]
    },
    {
     "data": {
      "text/plain": [
       "array([[29.906195]], dtype=float32)"
      ]
     },
     "execution_count": 15,
     "metadata": {},
     "output_type": "execute_result"
    }
   ],
   "source": [
    "model.predict([17.0])"
   ]
  },
  {
   "cell_type": "code",
   "execution_count": 16,
   "metadata": {},
   "outputs": [
    {
     "name": "stdout",
     "output_type": "stream",
     "text": [
      "Epoch 1/100\n",
      "1/1 [==============================] - 0s 277ms/step - loss: 12.6706 - mae: 12.6706\n",
      "Epoch 2/100\n",
      "1/1 [==============================] - 0s 4ms/step - loss: 8.7431 - mae: 8.7431\n",
      "Epoch 3/100\n",
      "1/1 [==============================] - 0s 4ms/step - loss: 4.1819 - mae: 4.1819\n",
      "Epoch 4/100\n",
      "1/1 [==============================] - 0s 5ms/step - loss: 7.2236 - mae: 7.2236\n",
      "Epoch 5/100\n",
      "1/1 [==============================] - 0s 4ms/step - loss: 6.2156 - mae: 6.2156\n",
      "Epoch 6/100\n",
      "1/1 [==============================] - 0s 5ms/step - loss: 4.2301 - mae: 4.2301\n",
      "Epoch 7/100\n",
      "1/1 [==============================] - 0s 5ms/step - loss: 4.9379 - mae: 4.9379\n",
      "Epoch 8/100\n",
      "1/1 [==============================] - 0s 5ms/step - loss: 5.4457 - mae: 5.4457\n",
      "Epoch 9/100\n",
      "1/1 [==============================] - 0s 4ms/step - loss: 4.5512 - mae: 4.5512\n",
      "Epoch 10/100\n",
      "1/1 [==============================] - 0s 4ms/step - loss: 3.6254 - mae: 3.6254\n",
      "Epoch 11/100\n",
      "1/1 [==============================] - 0s 4ms/step - loss: 3.9094 - mae: 3.9094\n",
      "Epoch 12/100\n",
      "1/1 [==============================] - 0s 4ms/step - loss: 3.9669 - mae: 3.9669\n",
      "Epoch 13/100\n",
      "1/1 [==============================] - 0s 4ms/step - loss: 3.6425 - mae: 3.6425\n",
      "Epoch 14/100\n",
      "1/1 [==============================] - 0s 4ms/step - loss: 3.3818 - mae: 3.3818\n",
      "Epoch 15/100\n",
      "1/1 [==============================] - 0s 3ms/step - loss: 3.6094 - mae: 3.6094\n",
      "Epoch 16/100\n",
      "1/1 [==============================] - 0s 4ms/step - loss: 3.3937 - mae: 3.3937\n",
      "Epoch 17/100\n",
      "1/1 [==============================] - 0s 4ms/step - loss: 3.0530 - mae: 3.0530\n",
      "Epoch 18/100\n",
      "1/1 [==============================] - 0s 5ms/step - loss: 3.1391 - mae: 3.1391\n",
      "Epoch 19/100\n",
      "1/1 [==============================] - 0s 4ms/step - loss: 3.4401 - mae: 3.4401\n",
      "Epoch 20/100\n",
      "1/1 [==============================] - 0s 4ms/step - loss: 3.0624 - mae: 3.0624\n",
      "Epoch 21/100\n",
      "1/1 [==============================] - 0s 4ms/step - loss: 2.5304 - mae: 2.5304\n",
      "Epoch 22/100\n",
      "1/1 [==============================] - 0s 3ms/step - loss: 2.4914 - mae: 2.4914\n",
      "Epoch 23/100\n",
      "1/1 [==============================] - 0s 4ms/step - loss: 2.7193 - mae: 2.7193\n",
      "Epoch 24/100\n",
      "1/1 [==============================] - 0s 5ms/step - loss: 1.8688 - mae: 1.8688\n",
      "Epoch 25/100\n",
      "1/1 [==============================] - 0s 5ms/step - loss: 1.5893 - mae: 1.5893\n",
      "Epoch 26/100\n",
      "1/1 [==============================] - 0s 5ms/step - loss: 1.4500 - mae: 1.4500\n",
      "Epoch 27/100\n",
      "1/1 [==============================] - 0s 5ms/step - loss: 0.9178 - mae: 0.9178\n",
      "Epoch 28/100\n",
      "1/1 [==============================] - 0s 5ms/step - loss: 0.7805 - mae: 0.7805\n",
      "Epoch 29/100\n",
      "1/1 [==============================] - 0s 4ms/step - loss: 1.0845 - mae: 1.0845\n",
      "Epoch 30/100\n",
      "1/1 [==============================] - 0s 4ms/step - loss: 0.6826 - mae: 0.6826\n",
      "Epoch 31/100\n",
      "1/1 [==============================] - 0s 4ms/step - loss: 1.0277 - mae: 1.0277\n",
      "Epoch 32/100\n",
      "1/1 [==============================] - 0s 4ms/step - loss: 0.6898 - mae: 0.6898\n",
      "Epoch 33/100\n",
      "1/1 [==============================] - 0s 4ms/step - loss: 1.4593 - mae: 1.4593\n",
      "Epoch 34/100\n",
      "1/1 [==============================] - 0s 5ms/step - loss: 0.7821 - mae: 0.7821\n",
      "Epoch 35/100\n",
      "1/1 [==============================] - 0s 5ms/step - loss: 1.3301 - mae: 1.3301\n",
      "Epoch 36/100\n",
      "1/1 [==============================] - 0s 4ms/step - loss: 1.7788 - mae: 1.7788\n",
      "Epoch 37/100\n",
      "1/1 [==============================] - 0s 4ms/step - loss: 1.0620 - mae: 1.0620\n",
      "Epoch 38/100\n",
      "1/1 [==============================] - 0s 4ms/step - loss: 0.9099 - mae: 0.9099\n",
      "Epoch 39/100\n",
      "1/1 [==============================] - 0s 4ms/step - loss: 1.2844 - mae: 1.2844\n",
      "Epoch 40/100\n",
      "1/1 [==============================] - 0s 4ms/step - loss: 0.7785 - mae: 0.7785\n",
      "Epoch 41/100\n",
      "1/1 [==============================] - 0s 4ms/step - loss: 1.1050 - mae: 1.1050\n",
      "Epoch 42/100\n",
      "1/1 [==============================] - 0s 4ms/step - loss: 1.1626 - mae: 1.1626\n",
      "Epoch 43/100\n",
      "1/1 [==============================] - 0s 4ms/step - loss: 0.6309 - mae: 0.6309\n",
      "Epoch 44/100\n",
      "1/1 [==============================] - 0s 4ms/step - loss: 0.8097 - mae: 0.8097\n",
      "Epoch 45/100\n",
      "1/1 [==============================] - 0s 5ms/step - loss: 0.7855 - mae: 0.7855\n",
      "Epoch 46/100\n",
      "1/1 [==============================] - 0s 4ms/step - loss: 0.4906 - mae: 0.4906\n",
      "Epoch 47/100\n",
      "1/1 [==============================] - 0s 5ms/step - loss: 0.4389 - mae: 0.4389\n",
      "Epoch 48/100\n",
      "1/1 [==============================] - 0s 5ms/step - loss: 0.6126 - mae: 0.6126\n",
      "Epoch 49/100\n",
      "1/1 [==============================] - 0s 4ms/step - loss: 0.5299 - mae: 0.5299\n",
      "Epoch 50/100\n",
      "1/1 [==============================] - 0s 5ms/step - loss: 0.7777 - mae: 0.7777\n",
      "Epoch 51/100\n",
      "1/1 [==============================] - 0s 4ms/step - loss: 0.9030 - mae: 0.9030\n",
      "Epoch 52/100\n",
      "1/1 [==============================] - 0s 5ms/step - loss: 0.4381 - mae: 0.4381\n",
      "Epoch 53/100\n",
      "1/1 [==============================] - 0s 4ms/step - loss: 1.2274 - mae: 1.2274\n",
      "Epoch 54/100\n",
      "1/1 [==============================] - 0s 4ms/step - loss: 1.4194 - mae: 1.4194\n",
      "Epoch 55/100\n",
      "1/1 [==============================] - 0s 4ms/step - loss: 0.5704 - mae: 0.5704\n",
      "Epoch 56/100\n",
      "1/1 [==============================] - 0s 4ms/step - loss: 1.1035 - mae: 1.1035\n",
      "Epoch 57/100\n",
      "1/1 [==============================] - 0s 4ms/step - loss: 1.6783 - mae: 1.6783\n",
      "Epoch 58/100\n",
      "1/1 [==============================] - 0s 5ms/step - loss: 1.4504 - mae: 1.4504\n",
      "Epoch 59/100\n",
      "1/1 [==============================] - 0s 4ms/step - loss: 0.5566 - mae: 0.5566\n",
      "Epoch 60/100\n",
      "1/1 [==============================] - 0s 4ms/step - loss: 1.5119 - mae: 1.5119\n",
      "Epoch 61/100\n",
      "1/1 [==============================] - 0s 4ms/step - loss: 2.0102 - mae: 2.0102\n",
      "Epoch 62/100\n",
      "1/1 [==============================] - 0s 4ms/step - loss: 1.6910 - mae: 1.6910\n",
      "Epoch 63/100\n",
      "1/1 [==============================] - 0s 4ms/step - loss: 0.8635 - mae: 0.8635\n",
      "Epoch 64/100\n",
      "1/1 [==============================] - 0s 4ms/step - loss: 1.3241 - mae: 1.3241\n",
      "Epoch 65/100\n",
      "1/1 [==============================] - 0s 4ms/step - loss: 1.6167 - mae: 1.6167\n",
      "Epoch 66/100\n",
      "1/1 [==============================] - 0s 4ms/step - loss: 1.0848 - mae: 1.0848\n",
      "Epoch 67/100\n",
      "1/1 [==============================] - 0s 4ms/step - loss: 0.3783 - mae: 0.3783\n",
      "Epoch 68/100\n",
      "1/1 [==============================] - 0s 4ms/step - loss: 1.3237 - mae: 1.3237\n",
      "Epoch 69/100\n",
      "1/1 [==============================] - 0s 4ms/step - loss: 1.1958 - mae: 1.1958\n",
      "Epoch 70/100\n",
      "1/1 [==============================] - 0s 4ms/step - loss: 0.3164 - mae: 0.3164\n",
      "Epoch 71/100\n",
      "1/1 [==============================] - 0s 5ms/step - loss: 0.9140 - mae: 0.9140\n",
      "Epoch 72/100\n",
      "1/1 [==============================] - 0s 4ms/step - loss: 0.8703 - mae: 0.8703\n",
      "Epoch 73/100\n",
      "1/1 [==============================] - 0s 4ms/step - loss: 0.2893 - mae: 0.2893\n",
      "Epoch 74/100\n",
      "1/1 [==============================] - 0s 4ms/step - loss: 0.4627 - mae: 0.4627\n",
      "Epoch 75/100\n",
      "1/1 [==============================] - 0s 4ms/step - loss: 0.3223 - mae: 0.3223\n",
      "Epoch 76/100\n",
      "1/1 [==============================] - 0s 5ms/step - loss: 0.3133 - mae: 0.3133\n",
      "Epoch 77/100\n",
      "1/1 [==============================] - 0s 5ms/step - loss: 0.5282 - mae: 0.5282\n",
      "Epoch 78/100\n",
      "1/1 [==============================] - 0s 4ms/step - loss: 0.3261 - mae: 0.3261\n",
      "Epoch 79/100\n",
      "1/1 [==============================] - 0s 4ms/step - loss: 0.7662 - mae: 0.7662\n",
      "Epoch 80/100\n",
      "1/1 [==============================] - 0s 4ms/step - loss: 0.8450 - mae: 0.8450\n",
      "Epoch 81/100\n",
      "1/1 [==============================] - 0s 4ms/step - loss: 0.2455 - mae: 0.2455\n",
      "Epoch 82/100\n",
      "1/1 [==============================] - 0s 5ms/step - loss: 0.9736 - mae: 0.9736\n",
      "Epoch 83/100\n",
      "1/1 [==============================] - 0s 4ms/step - loss: 0.9906 - mae: 0.9906\n",
      "Epoch 84/100\n",
      "1/1 [==============================] - 0s 5ms/step - loss: 0.2333 - mae: 0.2333\n",
      "Epoch 85/100\n",
      "1/1 [==============================] - 0s 6ms/step - loss: 1.0025 - mae: 1.0025\n",
      "Epoch 86/100\n",
      "1/1 [==============================] - 0s 7ms/step - loss: 1.1557 - mae: 1.1557\n",
      "Epoch 87/100\n",
      "1/1 [==============================] - 0s 7ms/step - loss: 0.5344 - mae: 0.5344\n",
      "Epoch 88/100\n",
      "1/1 [==============================] - 0s 5ms/step - loss: 0.8244 - mae: 0.8244\n",
      "Epoch 89/100\n",
      "1/1 [==============================] - 0s 4ms/step - loss: 1.1332 - mae: 1.1332\n",
      "Epoch 90/100\n",
      "1/1 [==============================] - 0s 4ms/step - loss: 0.4547 - mae: 0.4547\n",
      "Epoch 91/100\n",
      "1/1 [==============================] - 0s 3ms/step - loss: 0.9550 - mae: 0.9550\n",
      "Epoch 92/100\n",
      "1/1 [==============================] - 0s 4ms/step - loss: 1.4146 - mae: 1.4146\n",
      "Epoch 93/100\n",
      "1/1 [==============================] - 0s 3ms/step - loss: 1.1241 - mae: 1.1241\n",
      "Epoch 94/100\n",
      "1/1 [==============================] - 0s 4ms/step - loss: 0.1740 - mae: 0.1740\n",
      "Epoch 95/100\n",
      "1/1 [==============================] - 0s 4ms/step - loss: 1.0781 - mae: 1.0781\n",
      "Epoch 96/100\n",
      "1/1 [==============================] - 0s 5ms/step - loss: 1.2818 - mae: 1.2818\n",
      "Epoch 97/100\n",
      "1/1 [==============================] - 0s 5ms/step - loss: 0.6043 - mae: 0.6043\n",
      "Epoch 98/100\n",
      "1/1 [==============================] - 0s 4ms/step - loss: 0.8119 - mae: 0.8119\n",
      "Epoch 99/100\n",
      "1/1 [==============================] - 0s 4ms/step - loss: 1.2639 - mae: 1.2639\n",
      "Epoch 100/100\n",
      "1/1 [==============================] - 0s 4ms/step - loss: 1.0019 - mae: 1.0019\n"
     ]
    },
    {
     "data": {
      "text/plain": [
       "<keras.callbacks.History at 0x1b8b806cee0>"
      ]
     },
     "execution_count": 16,
     "metadata": {},
     "output_type": "execute_result"
    }
   ],
   "source": [
    "tf.random.set_seed(42)\n",
    "#  1. create a model \n",
    "\n",
    "model = tf.keras.Sequential([\n",
    "    tf.keras.layers.Dense(100,activation='relu'),\n",
    "    tf.keras.layers.Dense(100,activation='relu'),\n",
    "    tf.keras.layers.Dense(100,activation='relu'),\n",
    "    tf.keras.layers.Dense(1)\n",
    "])\n",
    "#  2. complie the model \n",
    "\n",
    "model.compile(loss = tf.keras.losses.mae,\n",
    "              optimizer=tf.keras.optimizers.Adam(learning_rate=0.01),\n",
    "              metrics = ['mae']\n",
    "              )\n",
    "# 3. fit the model \n",
    "\n",
    "model.fit(tf.expand_dims(X, axis=-1), y, epochs=100) "
   ]
  },
  {
   "cell_type": "code",
   "execution_count": 17,
   "metadata": {},
   "outputs": [
    {
     "name": "stdout",
     "output_type": "stream",
     "text": [
      "1/1 [==============================] - 0s 51ms/step\n"
     ]
    },
    {
     "data": {
      "text/plain": [
       "array([[27.305185]], dtype=float32)"
      ]
     },
     "execution_count": 17,
     "metadata": {},
     "output_type": "execute_result"
    }
   ],
   "source": [
    "model.predict([17.0])"
   ]
  },
  {
   "cell_type": "code",
   "execution_count": 18,
   "metadata": {},
   "outputs": [
    {
     "name": "stdout",
     "output_type": "stream",
     "text": [
      "1/1 [==============================] - 0s 27ms/step\n"
     ]
    },
    {
     "data": {
      "text/plain": [
       "array([[24.057102]], dtype=float32)"
      ]
     },
     "execution_count": 18,
     "metadata": {},
     "output_type": "execute_result"
    }
   ],
   "source": [
    "model.predict([14.0])"
   ]
  },
  {
   "cell_type": "markdown",
   "metadata": {},
   "source": [
    "# Evaluating a model \n",
    "\n",
    "Build  a model -> fit it -> evaluate it -> tweak a model -> fit it -> evaluate it -> tweak a model \n",
    "\n",
    "> \"Visualize , Visualize, Visualize\"\n",
    "it is a good idea to visualize:\n",
    "\n",
    "* The data  - what data are we working with ? what does it look like?\n",
    "* The model itself - what does our model look like ?\n",
    "* The training of a model  - how does a modelperform while it learns \n",
    "* the predictions of the model - how do the predictions of a model line up against the ground truth (original data) ?\n",
    "\n",
    " "
   ]
  },
  {
   "cell_type": "code",
   "execution_count": 19,
   "metadata": {},
   "outputs": [
    {
     "data": {
      "text/plain": [
       "<tf.Tensor: shape=(50,), dtype=int32, numpy=\n",
       "array([-100,  -96,  -92,  -88,  -84,  -80,  -76,  -72,  -68,  -64,  -60,\n",
       "        -56,  -52,  -48,  -44,  -40,  -36,  -32,  -28,  -24,  -20,  -16,\n",
       "        -12,   -8,   -4,    0,    4,    8,   12,   16,   20,   24,   28,\n",
       "         32,   36,   40,   44,   48,   52,   56,   60,   64,   68,   72,\n",
       "         76,   80,   84,   88,   92,   96])>"
      ]
     },
     "execution_count": 19,
     "metadata": {},
     "output_type": "execute_result"
    }
   ],
   "source": [
    "# make bigger data \n",
    "X = tf.range(-100 ,100 ,4)\n",
    "X"
   ]
  },
  {
   "cell_type": "code",
   "execution_count": 20,
   "metadata": {},
   "outputs": [
    {
     "data": {
      "text/plain": [
       "<tf.Tensor: shape=(50,), dtype=int32, numpy=\n",
       "array([-90, -86, -82, -78, -74, -70, -66, -62, -58, -54, -50, -46, -42,\n",
       "       -38, -34, -30, -26, -22, -18, -14, -10,  -6,  -2,   2,   6,  10,\n",
       "        14,  18,  22,  26,  30,  34,  38,  42,  46,  50,  54,  58,  62,\n",
       "        66,  70,  74,  78,  82,  86,  90,  94,  98, 102, 106])>"
      ]
     },
     "execution_count": 20,
     "metadata": {},
     "output_type": "execute_result"
    }
   ],
   "source": [
    "# make labels for the dataset \n",
    "\n",
    "y = X + 10\n",
    "y"
   ]
  },
  {
   "cell_type": "code",
   "execution_count": 21,
   "metadata": {},
   "outputs": [
    {
     "data": {
      "text/plain": [
       "<matplotlib.collections.PathCollection at 0x1b8b9178cd0>"
      ]
     },
     "execution_count": 21,
     "metadata": {},
     "output_type": "execute_result"
    },
    {
     "data": {
      "image/png": "[encoded data removed]",
      "text/plain": [
       "<Figure size 640x480 with 1 Axes>"
      ]
     },
     "metadata": {},
     "output_type": "display_data"
    }
   ],
   "source": [
    "plt.scatter(X,y)"
   ]
  },
  {
   "cell_type": "markdown",
   "metadata": {},
   "source": [
    "### The Three sets ......\n",
    "\n",
    "* *Training set* - the model learns from this data , which is typically 70-80 % of the total data you have available.\n",
    "* *Validation set* - the model get tuned on this data 10-15 %  of data set\n",
    "* *test set* - the model gets evaluated on this data to test , this set is typically 10-15% of total dataset "
   ]
  },
  {
   "cell_type": "code",
   "execution_count": 22,
   "metadata": {},
   "outputs": [
    {
     "data": {
      "text/plain": [
       "50"
      ]
     },
     "execution_count": 22,
     "metadata": {},
     "output_type": "execute_result"
    }
   ],
   "source": [
    "#  length of how many sample  we have \n",
    "\n",
    "len(X)"
   ]
  },
  {
   "cell_type": "code",
   "execution_count": 23,
   "metadata": {},
   "outputs": [],
   "source": [
    "X_train  = X[:40]\n",
    "y_train = y[:40]\n",
    "\n",
    "X_test = X[40:]\n",
    "y_test = y[40:]"
   ]
  },
  {
   "cell_type": "code",
   "execution_count": 24,
   "metadata": {},
   "outputs": [
    {
     "data": {
      "text/plain": [
       "(40, 10)"
      ]
     },
     "execution_count": 24,
     "metadata": {},
     "output_type": "execute_result"
    }
   ],
   "source": [
    "len(X_train) , len(X_test)"
   ]
  },
  {
   "cell_type": "code",
   "execution_count": 25,
   "metadata": {},
   "outputs": [
    {
     "data": {
      "text/plain": [
       "(40, 10)"
      ]
     },
     "execution_count": 25,
     "metadata": {},
     "output_type": "execute_result"
    }
   ],
   "source": [
    "len(y_train) , len(y_test)"
   ]
  },
  {
   "cell_type": "code",
   "execution_count": 26,
   "metadata": {},
   "outputs": [
    {
     "data": {
      "text/plain": [
       "<matplotlib.legend.Legend at 0x1b8b931c9d0>"
      ]
     },
     "execution_count": 26,
     "metadata": {},
     "output_type": "execute_result"
    },
    {
     "data": {
      "image/png": "[encoded data removed]",
      "text/plain": [
       "<Figure size 1000x700 with 1 Axes>"
      ]
     },
     "metadata": {},
     "output_type": "display_data"
    }
   ],
   "source": [
    "plt.figure(figsize=(10,7))\n",
    "\n",
    "plt.scatter(X_train ,y_train , c = 'b',label ='Training data')\n",
    "\n",
    "plt.scatter(X_test ,y_test , c = 'g',label ='Testing data')\n",
    "\n",
    "plt.legend()"
   ]
  },
  {
   "cell_type": "code",
   "execution_count": 27,
   "metadata": {},
   "outputs": [],
   "source": [
    "# 1. create a model \n",
    "\n",
    "model = tf.keras.Sequential([\n",
    "    tf.keras.layers.Dense(10)\n",
    "    \n",
    "    \n",
    "])\n",
    "\n",
    "# compile the model \n",
    "\n",
    "model.compile(loss = tf.keras.losses.mae,\n",
    "              optimizer = tf.keras.optimizers.SGD(),\n",
    "              metrics = ['mae']\n",
    "              )\n",
    "\n",
    "# fit the model \n",
    "\n",
    "# model.fit(X_train,y_train,epochs=100)"
   ]
  },
  {
   "cell_type": "code",
   "execution_count": 28,
   "metadata": {},
   "outputs": [],
   "source": [
    "# model.summary()"
   ]
  },
  {
   "cell_type": "code",
   "execution_count": 29,
   "metadata": {},
   "outputs": [],
   "source": [
    "tf.random.set_seed(42)\n",
    "\n",
    "model = tf.keras.Sequential([\n",
    "    tf.keras.layers.Dense(10,input_shape = [1],name='input_layer'),\n",
    "    tf.keras.layers.Dense(1,name='output_layer')\n",
    "],name = 'model_1')\n",
    "\n",
    "model.compile(loss = tf.keras.losses.mae,\n",
    "              optimizer=tf.keras.optimizers.SGD(),\n",
    "              metrics=  ['mae']\n",
    "              )"
   ]
  },
  {
   "cell_type": "code",
   "execution_count": 30,
   "metadata": {},
   "outputs": [
    {
     "name": "stdout",
     "output_type": "stream",
     "text": [
      "Model: \"model_1\"\n",
      "_________________________________________________________________\n",
      " Layer (type)                Output Shape              Param #   \n",
      "=================================================================\n",
      " input_layer (Dense)         (None, 10)                20        \n",
      "                                                                 \n",
      " output_layer (Dense)        (None, 1)                 11        \n",
      "                                                                 \n",
      "=================================================================\n",
      "Total params: 31\n",
      "Trainable params: 31\n",
      "Non-trainable params: 0\n",
      "_________________________________________________________________\n"
     ]
    }
   ],
   "source": [
    "model.summary()"
   ]
  },
  {
   "cell_type": "markdown",
   "metadata": {},
   "source": [
    "* Total params -> total number of parameters in the model \n",
    "* Trainable parameters -> these are the parameters the model can update as it trains \n",
    "* non-trainable params -> these parameters arent updated during training "
   ]
  },
  {
   "cell_type": "code",
   "execution_count": 31,
   "metadata": {},
   "outputs": [
    {
     "name": "stdout",
     "output_type": "stream",
     "text": [
      "Epoch 1/100\n",
      "2/2 [==============================] - 0s 4ms/step - loss: 59.1835 - mae: 59.1835\n",
      "Epoch 2/100\n",
      "2/2 [==============================] - 0s 4ms/step - loss: 17.6147 - mae: 17.6147\n",
      "Epoch 3/100\n",
      "2/2 [==============================] - 0s 4ms/step - loss: 18.0695 - mae: 18.0695\n",
      "Epoch 4/100\n",
      "2/2 [==============================] - 0s 3ms/step - loss: 13.2615 - mae: 13.2615\n",
      "Epoch 5/100\n",
      "2/2 [==============================] - 0s 3ms/step - loss: 14.6399 - mae: 14.6399\n",
      "Epoch 6/100\n",
      "2/2 [==============================] - 0s 6ms/step - loss: 11.6700 - mae: 11.6700\n",
      "Epoch 7/100\n",
      "2/2 [==============================] - 0s 5ms/step - loss: 12.7354 - mae: 12.7354\n",
      "Epoch 8/100\n",
      "2/2 [==============================] - 0s 3ms/step - loss: 11.0610 - mae: 11.0610\n",
      "Epoch 9/100\n",
      "2/2 [==============================] - 0s 4ms/step - loss: 39.9909 - mae: 39.9909\n",
      "Epoch 10/100\n",
      "2/2 [==============================] - 0s 3ms/step - loss: 27.4455 - mae: 27.4455\n",
      "Epoch 11/100\n",
      "2/2 [==============================] - 0s 3ms/step - loss: 10.2481 - mae: 10.2481\n",
      "Epoch 12/100\n",
      "2/2 [==============================] - 0s 3ms/step - loss: 25.4289 - mae: 25.4289\n",
      "Epoch 13/100\n",
      "2/2 [==============================] - 0s 3ms/step - loss: 16.7940 - mae: 16.7940\n",
      "Epoch 14/100\n",
      "2/2 [==============================] - 0s 3ms/step - loss: 25.5646 - mae: 25.5646\n",
      "Epoch 15/100\n",
      "2/2 [==============================] - 0s 3ms/step - loss: 17.4615 - mae: 17.4615\n",
      "Epoch 16/100\n",
      "2/2 [==============================] - 0s 3ms/step - loss: 10.0112 - mae: 10.0112\n",
      "Epoch 17/100\n",
      "2/2 [==============================] - 0s 3ms/step - loss: 18.4883 - mae: 18.4883\n",
      "Epoch 18/100\n",
      "2/2 [==============================] - 0s 3ms/step - loss: 11.3380 - mae: 11.3380\n",
      "Epoch 19/100\n",
      "2/2 [==============================] - 0s 4ms/step - loss: 13.9103 - mae: 13.9103\n",
      "Epoch 20/100\n",
      "2/2 [==============================] - 0s 3ms/step - loss: 11.1837 - mae: 11.1837\n",
      "Epoch 21/100\n",
      "2/2 [==============================] - 0s 3ms/step - loss: 17.2273 - mae: 17.2273\n",
      "Epoch 22/100\n",
      "2/2 [==============================] - 0s 3ms/step - loss: 15.4638 - mae: 15.4638\n",
      "Epoch 23/100\n",
      "2/2 [==============================] - 0s 3ms/step - loss: 9.2387 - mae: 9.2387\n",
      "Epoch 24/100\n",
      "2/2 [==============================] - 0s 3ms/step - loss: 17.2826 - mae: 17.2826\n",
      "Epoch 25/100\n",
      "2/2 [==============================] - 0s 3ms/step - loss: 15.9499 - mae: 15.9499\n",
      "Epoch 26/100\n",
      "2/2 [==============================] - 0s 3ms/step - loss: 20.9617 - mae: 20.9617\n",
      "Epoch 27/100\n",
      "2/2 [==============================] - 0s 3ms/step - loss: 25.8936 - mae: 25.8936\n",
      "Epoch 28/100\n",
      "2/2 [==============================] - 0s 3ms/step - loss: 18.3999 - mae: 18.3999\n",
      "Epoch 29/100\n",
      "2/2 [==============================] - 0s 4ms/step - loss: 9.2369 - mae: 9.2369\n",
      "Epoch 30/100\n",
      "2/2 [==============================] - 0s 3ms/step - loss: 29.0131 - mae: 29.0131\n",
      "Epoch 31/100\n",
      "2/2 [==============================] - 0s 4ms/step - loss: 52.5396 - mae: 52.5396\n",
      "Epoch 32/100\n",
      "2/2 [==============================] - 0s 3ms/step - loss: 11.8933 - mae: 11.8933\n",
      "Epoch 33/100\n",
      "2/2 [==============================] - 0s 3ms/step - loss: 15.4682 - mae: 15.4682\n",
      "Epoch 34/100\n",
      "2/2 [==============================] - 0s 3ms/step - loss: 12.5737 - mae: 12.5737\n",
      "Epoch 35/100\n",
      "2/2 [==============================] - 0s 4ms/step - loss: 9.1841 - mae: 9.1841\n",
      "Epoch 36/100\n",
      "2/2 [==============================] - 0s 3ms/step - loss: 16.4429 - mae: 16.4429\n",
      "Epoch 37/100\n",
      "2/2 [==============================] - 0s 3ms/step - loss: 11.0912 - mae: 11.0912\n",
      "Epoch 38/100\n",
      "2/2 [==============================] - 0s 3ms/step - loss: 18.2220 - mae: 18.2220\n",
      "Epoch 39/100\n",
      "2/2 [==============================] - 0s 4ms/step - loss: 19.1530 - mae: 19.1530\n",
      "Epoch 40/100\n",
      "2/2 [==============================] - 0s 4ms/step - loss: 20.5281 - mae: 20.5281\n",
      "Epoch 41/100\n",
      "2/2 [==============================] - 0s 4ms/step - loss: 14.7829 - mae: 14.7829\n",
      "Epoch 42/100\n",
      "2/2 [==============================] - 0s 3ms/step - loss: 12.1840 - mae: 12.1840\n",
      "Epoch 43/100\n",
      "2/2 [==============================] - 0s 3ms/step - loss: 10.6843 - mae: 10.6843\n",
      "Epoch 44/100\n",
      "2/2 [==============================] - 0s 3ms/step - loss: 32.2267 - mae: 32.2267\n",
      "Epoch 45/100\n",
      "2/2 [==============================] - 0s 3ms/step - loss: 12.4519 - mae: 12.4519\n",
      "Epoch 46/100\n",
      "2/2 [==============================] - 0s 3ms/step - loss: 17.4828 - mae: 17.4828\n",
      "Epoch 47/100\n",
      "2/2 [==============================] - 0s 3ms/step - loss: 15.7657 - mae: 15.7657\n",
      "Epoch 48/100\n",
      "2/2 [==============================] - 0s 3ms/step - loss: 8.3791 - mae: 8.3791\n",
      "Epoch 49/100\n",
      "2/2 [==============================] - 0s 4ms/step - loss: 13.9926 - mae: 13.9926\n",
      "Epoch 50/100\n",
      "2/2 [==============================] - 0s 3ms/step - loss: 12.8343 - mae: 12.8343\n",
      "Epoch 51/100\n",
      "2/2 [==============================] - 0s 3ms/step - loss: 14.8417 - mae: 14.8417\n",
      "Epoch 52/100\n",
      "2/2 [==============================] - 0s 3ms/step - loss: 18.7257 - mae: 18.7257\n",
      "Epoch 53/100\n",
      "2/2 [==============================] - 0s 3ms/step - loss: 24.1829 - mae: 24.1829\n",
      "Epoch 54/100\n",
      "2/2 [==============================] - 0s 3ms/step - loss: 23.1452 - mae: 23.1452\n",
      "Epoch 55/100\n",
      "2/2 [==============================] - 0s 3ms/step - loss: 23.9907 - mae: 23.9907\n",
      "Epoch 56/100\n",
      "2/2 [==============================] - 0s 3ms/step - loss: 11.1425 - mae: 11.1425\n",
      "Epoch 57/100\n",
      "2/2 [==============================] - 0s 3ms/step - loss: 13.0926 - mae: 13.0926\n",
      "Epoch 58/100\n",
      "2/2 [==============================] - 0s 3ms/step - loss: 9.7956 - mae: 9.7956\n",
      "Epoch 59/100\n",
      "2/2 [==============================] - 0s 3ms/step - loss: 13.2787 - mae: 13.2787\n",
      "Epoch 60/100\n",
      "2/2 [==============================] - 0s 3ms/step - loss: 10.8522 - mae: 10.8522\n",
      "Epoch 61/100\n",
      "2/2 [==============================] - 0s 4ms/step - loss: 13.4487 - mae: 13.4487\n",
      "Epoch 62/100\n",
      "2/2 [==============================] - 0s 3ms/step - loss: 17.4614 - mae: 17.4614\n",
      "Epoch 63/100\n",
      "2/2 [==============================] - 0s 3ms/step - loss: 9.1467 - mae: 9.1467\n",
      "Epoch 64/100\n",
      "2/2 [==============================] - 0s 3ms/step - loss: 18.3334 - mae: 18.3334\n",
      "Epoch 65/100\n",
      "2/2 [==============================] - 0s 4ms/step - loss: 10.1020 - mae: 10.1020\n",
      "Epoch 66/100\n",
      "2/2 [==============================] - 0s 3ms/step - loss: 24.1869 - mae: 24.1869\n",
      "Epoch 67/100\n",
      "2/2 [==============================] - 0s 4ms/step - loss: 10.8633 - mae: 10.8633\n",
      "Epoch 68/100\n",
      "2/2 [==============================] - 0s 4ms/step - loss: 10.7510 - mae: 10.7510\n",
      "Epoch 69/100\n",
      "2/2 [==============================] - 0s 4ms/step - loss: 23.1682 - mae: 23.1682\n",
      "Epoch 70/100\n",
      "2/2 [==============================] - 0s 3ms/step - loss: 8.8261 - mae: 8.8261\n",
      "Epoch 71/100\n",
      "2/2 [==============================] - 0s 5ms/step - loss: 16.0439 - mae: 16.0439\n",
      "Epoch 72/100\n",
      "2/2 [==============================] - 0s 3ms/step - loss: 7.7419 - mae: 7.7419\n",
      "Epoch 73/100\n",
      "2/2 [==============================] - 0s 3ms/step - loss: 10.1526 - mae: 10.1526\n",
      "Epoch 74/100\n",
      "2/2 [==============================] - 0s 3ms/step - loss: 28.3233 - mae: 28.3233\n",
      "Epoch 75/100\n",
      "2/2 [==============================] - 0s 3ms/step - loss: 10.0138 - mae: 10.0138\n",
      "Epoch 76/100\n",
      "2/2 [==============================] - 0s 3ms/step - loss: 12.9312 - mae: 12.9312\n",
      "Epoch 77/100\n",
      "2/2 [==============================] - 0s 4ms/step - loss: 17.9142 - mae: 17.9142\n",
      "Epoch 78/100\n",
      "2/2 [==============================] - 0s 3ms/step - loss: 8.9606 - mae: 8.9606\n",
      "Epoch 79/100\n",
      "2/2 [==============================] - 0s 4ms/step - loss: 28.7509 - mae: 28.7509\n",
      "Epoch 80/100\n",
      "2/2 [==============================] - 0s 3ms/step - loss: 31.0932 - mae: 31.0932\n",
      "Epoch 81/100\n",
      "2/2 [==============================] - 0s 3ms/step - loss: 13.4334 - mae: 13.4334\n",
      "Epoch 82/100\n",
      "2/2 [==============================] - 0s 3ms/step - loss: 14.3137 - mae: 14.3137\n",
      "Epoch 83/100\n",
      "2/2 [==============================] - 0s 4ms/step - loss: 18.8464 - mae: 18.8464\n",
      "Epoch 84/100\n",
      "2/2 [==============================] - 0s 3ms/step - loss: 9.4548 - mae: 9.4548\n",
      "Epoch 85/100\n",
      "2/2 [==============================] - 0s 3ms/step - loss: 25.2430 - mae: 25.2430\n",
      "Epoch 86/100\n",
      "2/2 [==============================] - 0s 3ms/step - loss: 16.4415 - mae: 16.4415\n",
      "Epoch 87/100\n",
      "2/2 [==============================] - 0s 3ms/step - loss: 11.4682 - mae: 11.4682\n",
      "Epoch 88/100\n",
      "2/2 [==============================] - 0s 3ms/step - loss: 27.0562 - mae: 27.0562\n",
      "Epoch 89/100\n",
      "2/2 [==============================] - 0s 3ms/step - loss: 9.7396 - mae: 9.7396\n",
      "Epoch 90/100\n",
      "2/2 [==============================] - 0s 3ms/step - loss: 19.0927 - mae: 19.0927\n",
      "Epoch 91/100\n",
      "2/2 [==============================] - 0s 3ms/step - loss: 10.5983 - mae: 10.5983\n",
      "Epoch 92/100\n",
      "2/2 [==============================] - 0s 6ms/step - loss: 18.3060 - mae: 18.3060\n",
      "Epoch 93/100\n",
      "2/2 [==============================] - 0s 5ms/step - loss: 6.8579 - mae: 6.8579\n",
      "Epoch 94/100\n",
      "2/2 [==============================] - 0s 4ms/step - loss: 13.0721 - mae: 13.0721\n",
      "Epoch 95/100\n",
      "2/2 [==============================] - 0s 4ms/step - loss: 18.4535 - mae: 18.4535\n",
      "Epoch 96/100\n",
      "2/2 [==============================] - 0s 3ms/step - loss: 10.4059 - mae: 10.4059\n",
      "Epoch 97/100\n",
      "2/2 [==============================] - 0s 3ms/step - loss: 14.1877 - mae: 14.1877\n",
      "Epoch 98/100\n",
      "2/2 [==============================] - 0s 3ms/step - loss: 9.6467 - mae: 9.6467\n",
      "Epoch 99/100\n",
      "2/2 [==============================] - 0s 3ms/step - loss: 11.3395 - mae: 11.3395\n",
      "Epoch 100/100\n",
      "2/2 [==============================] - 0s 3ms/step - loss: 29.3117 - mae: 29.3117\n"
     ]
    },
    {
     "data": {
      "text/plain": [
       "<keras.callbacks.History at 0x1b8b924e3d0>"
      ]
     },
     "execution_count": 31,
     "metadata": {},
     "output_type": "execute_result"
    }
   ],
   "source": [
    "model.fit(X_train,y_train , epochs=100 , verbose=1) #type:ignore"
   ]
  },
  {
   "cell_type": "code",
   "execution_count": 32,
   "metadata": {},
   "outputs": [
    {
     "data": {
      "image/png": "[encoded data removed]",
      "text/plain": [
       "<IPython.core.display.Image object>"
      ]
     },
     "execution_count": 32,
     "metadata": {},
     "output_type": "execute_result"
    }
   ],
   "source": [
    "\n",
    "tf.keras.utils.plot_model(model=model, show_shapes=True) # type: ignore"
   ]
  },
  {
   "cell_type": "markdown",
   "metadata": {},
   "source": [
    "### Visualization our model's prediction \n",
    "\n",
    "To visualize predictions , its a good idea to plot them against the ground truth labels.\n",
    "\n",
    "Often you will see this in the form of 'y_test' or y_true \n",
    "versus 'y_pred' "
   ]
  },
  {
   "cell_type": "code",
   "execution_count": 33,
   "metadata": {},
   "outputs": [
    {
     "name": "stdout",
     "output_type": "stream",
     "text": [
      "1/1 [==============================] - 0s 32ms/step\n"
     ]
    },
    {
     "data": {
      "text/plain": [
       "array([[ 77.01668 ],\n",
       "       [ 82.03812 ],\n",
       "       [ 87.059555],\n",
       "       [ 92.08099 ],\n",
       "       [ 97.10243 ],\n",
       "       [102.123856],\n",
       "       [107.14531 ],\n",
       "       [112.16674 ],\n",
       "       [117.18817 ],\n",
       "       [122.20962 ]], dtype=float32)"
      ]
     },
     "execution_count": 33,
     "metadata": {},
     "output_type": "execute_result"
    }
   ],
   "source": [
    "# making some predictions \n",
    "\n",
    "y_pred = model.predict(X_test)\n",
    "y_pred"
   ]
  },
  {
   "cell_type": "code",
   "execution_count": 34,
   "metadata": {},
   "outputs": [
    {
     "data": {
      "text/plain": [
       "<tf.Tensor: shape=(10,), dtype=int32, numpy=array([ 70,  74,  78,  82,  86,  90,  94,  98, 102, 106])>"
      ]
     },
     "execution_count": 34,
     "metadata": {},
     "output_type": "execute_result"
    }
   ],
   "source": [
    "y_test"
   ]
  },
  {
   "cell_type": "code",
   "execution_count": 35,
   "metadata": {},
   "outputs": [],
   "source": [
    "#  Let's create a plotting function\n",
    "\n",
    "def plot_predictions(train_data = X_train,\n",
    "                     train_labels = y_train,\n",
    "                     test_data = X_test,\n",
    "                     test_labels =y_test,\n",
    "                     predictions =y_pred):\n",
    "    plt.figure(figsize=(10,7))\n",
    "    \n",
    "    # training data in blue  \n",
    "    plt.scatter(train_data,train_labels,c='b',label='Training data') # type: ignore\n",
    "    # testing data in green \n",
    "    plt.scatter(test_data,test_labels,c='g',label='Testing data')\n",
    "    # predictions data in red \n",
    "    plt.scatter(test_data,predictions,c='r',label = 'Predictions')\n",
    "\n",
    "    plt.legend()"
   ]
  },
  {
   "cell_type": "code",
   "execution_count": 36,
   "metadata": {},
   "outputs": [
    {
     "data": {
      "image/png": "[encoded data removed]",
      "text/plain": [
       "<Figure size 1000x700 with 1 Axes>"
      ]
     },
     "metadata": {},
     "output_type": "display_data"
    }
   ],
   "source": [
    "plot_predictions()"
   ]
  },
  {
   "cell_type": "markdown",
   "metadata": {},
   "source": [
    "### Evaluating our model's predictions with regression evaluation metrics \n",
    "\n",
    "* MAE - mean absolute error , *on average , how wrong is each of models's predictions*\n",
    "* MSE - mean square error , *square the average errors*"
   ]
  },
  {
   "cell_type": "code",
   "execution_count": 37,
   "metadata": {},
   "outputs": [
    {
     "name": "stdout",
     "output_type": "stream",
     "text": [
      "1/1 [==============================] - 0s 88ms/step - loss: 11.6131 - mae: 11.6131\n"
     ]
    },
    {
     "data": {
      "text/plain": [
       "[11.613146781921387, 11.613146781921387]"
      ]
     },
     "execution_count": 37,
     "metadata": {},
     "output_type": "execute_result"
    }
   ],
   "source": [
    "model.evaluate(X_test,y_test)\n"
   ]
  },
  {
   "cell_type": "code",
   "execution_count": 38,
   "metadata": {},
   "outputs": [
    {
     "data": {
      "text/plain": [
       "<tf.Tensor: shape=(), dtype=float32, numpy=11.613147>"
      ]
     },
     "execution_count": 38,
     "metadata": {},
     "output_type": "execute_result"
    }
   ],
   "source": [
    "#  mean absolute error \n",
    "\n",
    "mae  = tf.metrics.mean_absolute_error(y_true = y_test,y_pred= tf.squeeze(y_pred))\n",
    "mae"
   ]
  },
  {
   "cell_type": "code",
   "execution_count": 39,
   "metadata": {},
   "outputs": [
    {
     "data": {
      "text/plain": [
       "<tf.Tensor: shape=(), dtype=float32, numpy=143.47269>"
      ]
     },
     "execution_count": 39,
     "metadata": {},
     "output_type": "execute_result"
    }
   ],
   "source": [
    "mse  = tf.metrics.mean_squared_error(y_true=y_test,y_pred=tf.squeeze(y_pred))\n",
    "mse"
   ]
  },
  {
   "cell_type": "code",
   "execution_count": 40,
   "metadata": {},
   "outputs": [],
   "source": [
    "def mae(y_true ,y_pred):\n",
    "    return tf.metrics.mean_absolute_error(y_true = y_test,y_pred= tf.squeeze(y_pred))\n",
    "\n",
    "def mse(y_true ,y_pred):\n",
    "    return tf.metrics.mean_squared_error(y_true = y_test,y_pred= tf.squeeze(y_pred))"
   ]
  },
  {
   "cell_type": "markdown",
   "metadata": {},
   "source": [
    "### Experiments "
   ]
  },
  {
   "cell_type": "code",
   "execution_count": 41,
   "metadata": {},
   "outputs": [
    {
     "name": "stdout",
     "output_type": "stream",
     "text": [
      "Epoch 1/100\n",
      "2/2 [==============================] - 0s 3ms/step - loss: 27.6532 - mae: 27.6532\n",
      "Epoch 2/100\n",
      "2/2 [==============================] - 0s 3ms/step - loss: 9.0215 - mae: 9.0215\n",
      "Epoch 3/100\n",
      "2/2 [==============================] - 0s 3ms/step - loss: 8.2267 - mae: 8.2267\n",
      "Epoch 4/100\n",
      "2/2 [==============================] - 0s 3ms/step - loss: 7.5477 - mae: 7.5477\n",
      "Epoch 5/100\n",
      "2/2 [==============================] - 0s 3ms/step - loss: 7.5590 - mae: 7.5590\n",
      "Epoch 6/100\n",
      "2/2 [==============================] - 0s 3ms/step - loss: 9.0449 - mae: 9.0449\n",
      "Epoch 7/100\n",
      "2/2 [==============================] - 0s 3ms/step - loss: 9.4571 - mae: 9.4571\n",
      "Epoch 8/100\n",
      "2/2 [==============================] - 0s 3ms/step - loss: 9.3164 - mae: 9.3164\n",
      "Epoch 9/100\n",
      "2/2 [==============================] - 0s 4ms/step - loss: 7.5136 - mae: 7.5136\n",
      "Epoch 10/100\n",
      "2/2 [==============================] - 0s 3ms/step - loss: 12.5774 - mae: 12.5774\n",
      "Epoch 11/100\n",
      "2/2 [==============================] - 0s 3ms/step - loss: 10.3239 - mae: 10.3239\n",
      "Epoch 12/100\n",
      "2/2 [==============================] - 0s 3ms/step - loss: 18.5306 - mae: 18.5306\n",
      "Epoch 13/100\n",
      "2/2 [==============================] - 0s 3ms/step - loss: 9.7295 - mae: 9.7295\n",
      "Epoch 14/100\n",
      "2/2 [==============================] - 0s 3ms/step - loss: 15.6010 - mae: 15.6010\n",
      "Epoch 15/100\n",
      "2/2 [==============================] - 0s 3ms/step - loss: 11.7277 - mae: 11.7277\n",
      "Epoch 16/100\n",
      "2/2 [==============================] - 0s 4ms/step - loss: 8.4436 - mae: 8.4436\n",
      "Epoch 17/100\n",
      "2/2 [==============================] - 0s 3ms/step - loss: 13.4135 - mae: 13.4135\n",
      "Epoch 18/100\n",
      "2/2 [==============================] - 0s 4ms/step - loss: 11.1864 - mae: 11.1864\n",
      "Epoch 19/100\n",
      "2/2 [==============================] - 0s 6ms/step - loss: 18.3467 - mae: 18.3467\n",
      "Epoch 20/100\n",
      "2/2 [==============================] - 0s 6ms/step - loss: 15.0505 - mae: 15.0505\n",
      "Epoch 21/100\n",
      "2/2 [==============================] - 0s 3ms/step - loss: 11.0224 - mae: 11.0224\n",
      "Epoch 22/100\n",
      "2/2 [==============================] - 0s 2ms/step - loss: 8.1566 - mae: 8.1566\n",
      "Epoch 23/100\n",
      "2/2 [==============================] - 0s 3ms/step - loss: 9.5132 - mae: 9.5132\n",
      "Epoch 24/100\n",
      "2/2 [==============================] - 0s 3ms/step - loss: 7.6619 - mae: 7.6619\n",
      "Epoch 25/100\n",
      "2/2 [==============================] - 0s 3ms/step - loss: 13.1846 - mae: 13.1846\n",
      "Epoch 26/100\n",
      "2/2 [==============================] - 0s 3ms/step - loss: 16.4221 - mae: 16.4221\n",
      "Epoch 27/100\n",
      "2/2 [==============================] - 0s 3ms/step - loss: 13.1668 - mae: 13.1668\n",
      "Epoch 28/100\n",
      "2/2 [==============================] - 0s 3ms/step - loss: 14.2570 - mae: 14.2570\n",
      "Epoch 29/100\n",
      "2/2 [==============================] - 0s 3ms/step - loss: 10.0673 - mae: 10.0673\n",
      "Epoch 30/100\n",
      "2/2 [==============================] - 0s 3ms/step - loss: 16.3426 - mae: 16.3426\n",
      "Epoch 31/100\n",
      "2/2 [==============================] - 0s 3ms/step - loss: 23.6429 - mae: 23.6429\n",
      "Epoch 32/100\n",
      "2/2 [==============================] - 0s 3ms/step - loss: 7.6213 - mae: 7.6213\n",
      "Epoch 33/100\n",
      "2/2 [==============================] - 0s 3ms/step - loss: 9.3218 - mae: 9.3218\n",
      "Epoch 34/100\n",
      "2/2 [==============================] - 0s 3ms/step - loss: 13.7302 - mae: 13.7302\n",
      "Epoch 35/100\n",
      "2/2 [==============================] - 0s 3ms/step - loss: 11.1283 - mae: 11.1283\n",
      "Epoch 36/100\n",
      "2/2 [==============================] - 0s 3ms/step - loss: 13.3235 - mae: 13.3235\n",
      "Epoch 37/100\n",
      "2/2 [==============================] - 0s 4ms/step - loss: 9.4758 - mae: 9.4758\n",
      "Epoch 38/100\n",
      "2/2 [==============================] - 0s 3ms/step - loss: 10.1375 - mae: 10.1375\n",
      "Epoch 39/100\n",
      "2/2 [==============================] - 0s 3ms/step - loss: 10.1800 - mae: 10.1800\n",
      "Epoch 40/100\n",
      "2/2 [==============================] - 0s 3ms/step - loss: 10.9146 - mae: 10.9146\n",
      "Epoch 41/100\n",
      "2/2 [==============================] - 0s 3ms/step - loss: 7.9070 - mae: 7.9070\n",
      "Epoch 42/100\n",
      "2/2 [==============================] - 0s 3ms/step - loss: 10.0908 - mae: 10.0908\n",
      "Epoch 43/100\n",
      "2/2 [==============================] - 0s 3ms/step - loss: 8.7004 - mae: 8.7004\n",
      "Epoch 44/100\n",
      "2/2 [==============================] - 0s 3ms/step - loss: 12.2036 - mae: 12.2036\n",
      "Epoch 45/100\n",
      "2/2 [==============================] - 0s 3ms/step - loss: 13.7981 - mae: 13.7981\n",
      "Epoch 46/100\n",
      "2/2 [==============================] - 0s 3ms/step - loss: 8.4694 - mae: 8.4694\n",
      "Epoch 47/100\n",
      "2/2 [==============================] - 0s 3ms/step - loss: 9.1325 - mae: 9.1325\n",
      "Epoch 48/100\n",
      "2/2 [==============================] - 0s 3ms/step - loss: 10.6182 - mae: 10.6182\n",
      "Epoch 49/100\n",
      "2/2 [==============================] - 0s 3ms/step - loss: 7.7498 - mae: 7.7498\n",
      "Epoch 50/100\n",
      "2/2 [==============================] - 0s 3ms/step - loss: 9.5400 - mae: 9.5400\n",
      "Epoch 51/100\n",
      "2/2 [==============================] - 0s 3ms/step - loss: 9.1583 - mae: 9.1583\n",
      "Epoch 52/100\n",
      "2/2 [==============================] - 0s 4ms/step - loss: 16.3615 - mae: 16.3615\n",
      "Epoch 53/100\n",
      "2/2 [==============================] - 0s 4ms/step - loss: 14.1305 - mae: 14.1305\n",
      "Epoch 54/100\n",
      "2/2 [==============================] - 0s 3ms/step - loss: 21.1263 - mae: 21.1263\n",
      "Epoch 55/100\n",
      "2/2 [==============================] - 0s 3ms/step - loss: 16.3948 - mae: 16.3948\n",
      "Epoch 56/100\n",
      "2/2 [==============================] - 0s 3ms/step - loss: 9.9816 - mae: 9.9816\n",
      "Epoch 57/100\n",
      "2/2 [==============================] - 0s 3ms/step - loss: 9.9600 - mae: 9.9600\n",
      "Epoch 58/100\n",
      "2/2 [==============================] - 0s 4ms/step - loss: 9.2203 - mae: 9.2203\n",
      "Epoch 59/100\n",
      "2/2 [==============================] - 0s 4ms/step - loss: 8.4234 - mae: 8.4234\n",
      "Epoch 60/100\n",
      "2/2 [==============================] - 0s 3ms/step - loss: 9.4865 - mae: 9.4865\n",
      "Epoch 61/100\n",
      "2/2 [==============================] - 0s 3ms/step - loss: 11.4346 - mae: 11.4346\n",
      "Epoch 62/100\n",
      "2/2 [==============================] - 0s 3ms/step - loss: 11.6898 - mae: 11.6898\n",
      "Epoch 63/100\n",
      "2/2 [==============================] - 0s 3ms/step - loss: 7.0835 - mae: 7.0835\n",
      "Epoch 64/100\n",
      "2/2 [==============================] - 0s 4ms/step - loss: 16.9686 - mae: 16.9686\n",
      "Epoch 65/100\n",
      "2/2 [==============================] - 0s 3ms/step - loss: 12.4607 - mae: 12.4607\n",
      "Epoch 66/100\n",
      "2/2 [==============================] - 0s 3ms/step - loss: 13.0194 - mae: 13.0194\n",
      "Epoch 67/100\n",
      "2/2 [==============================] - 0s 4ms/step - loss: 8.0604 - mae: 8.0604\n",
      "Epoch 68/100\n",
      "2/2 [==============================] - 0s 3ms/step - loss: 10.1895 - mae: 10.1895\n",
      "Epoch 69/100\n",
      "2/2 [==============================] - 0s 4ms/step - loss: 12.3645 - mae: 12.3645\n",
      "Epoch 70/100\n",
      "2/2 [==============================] - 0s 3ms/step - loss: 9.0511 - mae: 9.0511\n",
      "Epoch 71/100\n",
      "2/2 [==============================] - 0s 3ms/step - loss: 10.0372 - mae: 10.0372\n",
      "Epoch 72/100\n",
      "2/2 [==============================] - 0s 3ms/step - loss: 10.0511 - mae: 10.0511\n",
      "Epoch 73/100\n",
      "2/2 [==============================] - 0s 3ms/step - loss: 12.6141 - mae: 12.6141\n",
      "Epoch 74/100\n",
      "2/2 [==============================] - 0s 4ms/step - loss: 10.3830 - mae: 10.3830\n",
      "Epoch 75/100\n",
      "2/2 [==============================] - 0s 3ms/step - loss: 9.7224 - mae: 9.7224\n",
      "Epoch 76/100\n",
      "2/2 [==============================] - 0s 3ms/step - loss: 11.2245 - mae: 11.2245\n",
      "Epoch 77/100\n",
      "2/2 [==============================] - 0s 3ms/step - loss: 8.3637 - mae: 8.3637\n",
      "Epoch 78/100\n",
      "2/2 [==============================] - 0s 3ms/step - loss: 9.1266 - mae: 9.1266\n",
      "Epoch 79/100\n",
      "2/2 [==============================] - 0s 3ms/step - loss: 19.5054 - mae: 19.5054\n",
      "Epoch 80/100\n",
      "2/2 [==============================] - 0s 3ms/step - loss: 14.8933 - mae: 14.8933\n",
      "Epoch 81/100\n",
      "2/2 [==============================] - 0s 5ms/step - loss: 9.0047 - mae: 9.0047\n",
      "Epoch 82/100\n",
      "2/2 [==============================] - 0s 5ms/step - loss: 13.0196 - mae: 13.0196\n",
      "Epoch 83/100\n",
      "2/2 [==============================] - 0s 3ms/step - loss: 7.9292 - mae: 7.9292\n",
      "Epoch 84/100\n",
      "2/2 [==============================] - 0s 3ms/step - loss: 7.6876 - mae: 7.6876\n",
      "Epoch 85/100\n",
      "2/2 [==============================] - 0s 4ms/step - loss: 10.0336 - mae: 10.0336\n",
      "Epoch 86/100\n",
      "2/2 [==============================] - 0s 4ms/step - loss: 9.2439 - mae: 9.2439\n",
      "Epoch 87/100\n",
      "2/2 [==============================] - 0s 3ms/step - loss: 12.0218 - mae: 12.0218\n",
      "Epoch 88/100\n",
      "2/2 [==============================] - 0s 3ms/step - loss: 10.6398 - mae: 10.6398\n",
      "Epoch 89/100\n",
      "2/2 [==============================] - 0s 4ms/step - loss: 7.2668 - mae: 7.2668\n",
      "Epoch 90/100\n",
      "2/2 [==============================] - 0s 3ms/step - loss: 12.7797 - mae: 12.7797\n",
      "Epoch 91/100\n",
      "2/2 [==============================] - 0s 3ms/step - loss: 7.4687 - mae: 7.4687\n",
      "Epoch 92/100\n",
      "2/2 [==============================] - 0s 4ms/step - loss: 6.7561 - mae: 6.7561\n",
      "Epoch 93/100\n",
      "2/2 [==============================] - 0s 4ms/step - loss: 11.9309 - mae: 11.9309\n",
      "Epoch 94/100\n",
      "2/2 [==============================] - 0s 4ms/step - loss: 8.8676 - mae: 8.8676\n",
      "Epoch 95/100\n",
      "2/2 [==============================] - 0s 3ms/step - loss: 7.7119 - mae: 7.7119\n",
      "Epoch 96/100\n",
      "2/2 [==============================] - 0s 4ms/step - loss: 6.7489 - mae: 6.7489\n",
      "Epoch 97/100\n",
      "2/2 [==============================] - 0s 5ms/step - loss: 8.6156 - mae: 8.6156\n",
      "Epoch 98/100\n",
      "2/2 [==============================] - 0s 3ms/step - loss: 9.4042 - mae: 9.4042\n",
      "Epoch 99/100\n",
      "2/2 [==============================] - 0s 5ms/step - loss: 9.1379 - mae: 9.1379\n",
      "Epoch 100/100\n",
      "2/2 [==============================] - 0s 4ms/step - loss: 10.4997 - mae: 10.4997\n"
     ]
    },
    {
     "data": {
      "text/plain": [
       "<keras.callbacks.History at 0x1b8b5aa4520>"
      ]
     },
     "execution_count": 41,
     "metadata": {},
     "output_type": "execute_result"
    }
   ],
   "source": [
    "tf.random.set_seed(42)\n",
    "\n",
    "model_1 = tf.keras.Sequential([\n",
    "    tf.keras.layers.Dense(1)\n",
    "])\n",
    "\n",
    "model_1.compile(loss = tf.keras.losses.mae,\n",
    "              optimizer = tf.keras.optimizers.SGD(),\n",
    "              metrics=['mae'])\n",
    "\n",
    "# model_1.fit(X_train,y_train, epochs=100)\n",
    "model_1.fit(tf.expand_dims(X_train, axis=-1), y_train, epochs=100) "
   ]
  },
  {
   "cell_type": "code",
   "execution_count": 42,
   "metadata": {},
   "outputs": [
    {
     "name": "stdout",
     "output_type": "stream",
     "text": [
      "WARNING:tensorflow:5 out of the last 6 calls to <function Model.make_predict_function.<locals>.predict_function at 0x000001B8B93DEE50> triggered tf.function retracing. Tracing is expensive and the excessive number of tracings could be due to (1) creating @tf.function repeatedly in a loop, (2) passing tensors with different shapes, (3) passing Python objects instead of tensors. For (1), please define your @tf.function outside of the loop. For (2), @tf.function has reduce_retracing=True option that can avoid unnecessary retracing. For (3), please refer to https://www.tensorflow.org/guide/function#controlling_retracing and https://www.tensorflow.org/api_docs/python/tf/function for  more details.\n",
      "1/1 [==============================] - 0s 32ms/step\n"
     ]
    },
    {
     "data": {
      "image/png": "[encoded data removed]",
      "text/plain": [
       "<Figure size 1000x700 with 1 Axes>"
      ]
     },
     "metadata": {},
     "output_type": "display_data"
    }
   ],
   "source": [
    "# make and plot predictions \n",
    "\n",
    "y_pred_1 = model_1.predict(X_test)\n",
    "\n",
    "plot_predictions(predictions=y_pred_1)"
   ]
  },
  {
   "cell_type": "code",
   "execution_count": 43,
   "metadata": {},
   "outputs": [],
   "source": [
    "# Calculate model_1 evaluation metrics\n",
    "\n",
    "mae_1 = mae(y_test,(y_pred_1))\n",
    "mse_1 = mse(y_test,(y_pred_1))"
   ]
  },
  {
   "cell_type": "code",
   "execution_count": 44,
   "metadata": {},
   "outputs": [
    {
     "data": {
      "text/plain": [
       "(<tf.Tensor: shape=(), dtype=float32, numpy=14.844645>,\n",
       " <tf.Tensor: shape=(), dtype=float32, numpy=221.1816>)"
      ]
     },
     "execution_count": 44,
     "metadata": {},
     "output_type": "execute_result"
    }
   ],
   "source": [
    "mae_1,mse_1"
   ]
  },
  {
   "cell_type": "markdown",
   "metadata": {},
   "source": [
    "**Build model_2**\n",
    "\n",
    "* 2 dense layers trained for 100 epochs "
   ]
  },
  {
   "cell_type": "code",
   "execution_count": 45,
   "metadata": {},
   "outputs": [
    {
     "name": "stdout",
     "output_type": "stream",
     "text": [
      "Epoch 1/100\n",
      "2/2 [==============================] - 0s 3ms/step - loss: 37.7493 - mse: 1991.6493\n",
      "Epoch 2/100\n",
      "2/2 [==============================] - 0s 4ms/step - loss: 29.5708 - mse: 1133.4918\n",
      "Epoch 3/100\n",
      "2/2 [==============================] - 0s 3ms/step - loss: 33.5436 - mse: 1728.5039\n",
      "Epoch 4/100\n",
      "2/2 [==============================] - 0s 4ms/step - loss: 13.4353 - mse: 259.9608\n",
      "Epoch 5/100\n",
      "2/2 [==============================] - 0s 3ms/step - loss: 18.2219 - mse: 450.2631\n",
      "Epoch 6/100\n",
      "2/2 [==============================] - 0s 3ms/step - loss: 8.0424 - mse: 91.0307\n",
      "Epoch 7/100\n",
      "2/2 [==============================] - 0s 3ms/step - loss: 12.9335 - mse: 230.2961\n",
      "Epoch 8/100\n",
      "2/2 [==============================] - 0s 4ms/step - loss: 11.1951 - mse: 161.3282\n",
      "Epoch 9/100\n",
      "2/2 [==============================] - 0s 3ms/step - loss: 41.2270 - mse: 2690.5420\n",
      "Epoch 10/100\n",
      "2/2 [==============================] - 0s 4ms/step - loss: 28.5242 - mse: 1148.0171\n",
      "Epoch 11/100\n",
      "2/2 [==============================] - 0s 3ms/step - loss: 9.3994 - mse: 118.4555\n",
      "Epoch 12/100\n",
      "2/2 [==============================] - 0s 3ms/step - loss: 26.4072 - mse: 964.9272\n",
      "Epoch 13/100\n",
      "2/2 [==============================] - 0s 3ms/step - loss: 14.4540 - mse: 279.3001\n",
      "Epoch 14/100\n",
      "2/2 [==============================] - 0s 4ms/step - loss: 29.8715 - mse: 1425.2345\n",
      "Epoch 15/100\n",
      "2/2 [==============================] - 0s 3ms/step - loss: 19.7244 - mse: 544.3723\n",
      "Epoch 16/100\n",
      "2/2 [==============================] - 0s 4ms/step - loss: 9.8413 - mse: 126.3661\n",
      "Epoch 17/100\n",
      "2/2 [==============================] - 0s 3ms/step - loss: 17.6522 - mse: 411.2496\n",
      "Epoch 18/100\n",
      "2/2 [==============================] - 0s 4ms/step - loss: 14.1260 - mse: 314.4625\n",
      "Epoch 19/100\n",
      "2/2 [==============================] - 0s 3ms/step - loss: 13.9648 - mse: 303.8758\n",
      "Epoch 20/100\n",
      "2/2 [==============================] - 0s 4ms/step - loss: 11.2112 - mse: 146.4729\n",
      "Epoch 21/100\n",
      "2/2 [==============================] - 0s 3ms/step - loss: 17.2830 - mse: 423.0312\n",
      "Epoch 22/100\n",
      "2/2 [==============================] - 0s 3ms/step - loss: 15.5186 - mse: 331.7709\n",
      "Epoch 23/100\n",
      "2/2 [==============================] - 0s 3ms/step - loss: 9.2395 - mse: 118.6326\n",
      "Epoch 24/100\n",
      "2/2 [==============================] - 0s 4ms/step - loss: 17.2659 - mse: 408.5443\n",
      "Epoch 25/100\n",
      "2/2 [==============================] - 0s 3ms/step - loss: 15.9399 - mse: 333.8529\n",
      "Epoch 26/100\n",
      "2/2 [==============================] - 0s 3ms/step - loss: 20.9349 - mse: 649.5390\n",
      "Epoch 27/100\n",
      "2/2 [==============================] - 0s 4ms/step - loss: 25.9548 - mse: 1050.9673\n",
      "Epoch 28/100\n",
      "2/2 [==============================] - 0s 3ms/step - loss: 18.4533 - mse: 538.9398\n",
      "Epoch 29/100\n",
      "2/2 [==============================] - 0s 5ms/step - loss: 9.2432 - mse: 97.7346\n",
      "Epoch 30/100\n",
      "2/2 [==============================] - 0s 5ms/step - loss: 29.0658 - mse: 1508.8260\n",
      "Epoch 31/100\n",
      "2/2 [==============================] - 0s 4ms/step - loss: 52.6414 - mse: 4954.8130\n",
      "Epoch 32/100\n",
      "2/2 [==============================] - 0s 3ms/step - loss: 11.9188 - mse: 206.4640\n",
      "Epoch 33/100\n",
      "2/2 [==============================] - 0s 4ms/step - loss: 15.5045 - mse: 331.1897\n",
      "Epoch 34/100\n",
      "2/2 [==============================] - 0s 3ms/step - loss: 12.6011 - mse: 209.3212\n",
      "Epoch 35/100\n",
      "2/2 [==============================] - 0s 3ms/step - loss: 9.1986 - mse: 91.6156\n",
      "Epoch 36/100\n",
      "2/2 [==============================] - 0s 3ms/step - loss: 16.4812 - mse: 394.7661\n",
      "Epoch 37/100\n",
      "2/2 [==============================] - 0s 3ms/step - loss: 11.0850 - mse: 192.2244\n",
      "Epoch 38/100\n",
      "2/2 [==============================] - 0s 4ms/step - loss: 18.2150 - mse: 437.1941\n",
      "Epoch 39/100\n",
      "2/2 [==============================] - 0s 3ms/step - loss: 19.1476 - mse: 533.9980\n",
      "Epoch 40/100\n",
      "2/2 [==============================] - 0s 3ms/step - loss: 20.5175 - mse: 614.8996\n",
      "Epoch 41/100\n",
      "2/2 [==============================] - 0s 3ms/step - loss: 14.8034 - mse: 274.0890\n",
      "Epoch 42/100\n",
      "2/2 [==============================] - 0s 3ms/step - loss: 12.1993 - mse: 181.8825\n",
      "Epoch 43/100\n",
      "2/2 [==============================] - 0s 3ms/step - loss: 10.6936 - mse: 162.8327\n",
      "Epoch 44/100\n",
      "2/2 [==============================] - 0s 4ms/step - loss: 32.2522 - mse: 1710.6184\n",
      "Epoch 45/100\n",
      "2/2 [==============================] - 0s 4ms/step - loss: 12.4644 - mse: 201.4158\n",
      "Epoch 46/100\n",
      "2/2 [==============================] - 0s 3ms/step - loss: 17.5012 - mse: 458.9130\n",
      "Epoch 47/100\n",
      "2/2 [==============================] - 0s 3ms/step - loss: 15.7626 - mse: 339.5521\n",
      "Epoch 48/100\n",
      "2/2 [==============================] - 0s 4ms/step - loss: 8.3798 - mse: 112.7653\n",
      "Epoch 49/100\n",
      "2/2 [==============================] - 0s 3ms/step - loss: 13.9928 - mse: 268.9592\n",
      "Epoch 50/100\n",
      "2/2 [==============================] - 0s 4ms/step - loss: 12.8338 - mse: 215.6333\n",
      "Epoch 51/100\n",
      "2/2 [==============================] - 0s 4ms/step - loss: 14.8427 - mse: 309.8501\n",
      "Epoch 52/100\n",
      "2/2 [==============================] - 0s 4ms/step - loss: 18.7276 - mse: 530.2443\n",
      "Epoch 53/100\n",
      "2/2 [==============================] - 0s 3ms/step - loss: 24.1840 - mse: 829.3447\n",
      "Epoch 54/100\n",
      "2/2 [==============================] - 0s 3ms/step - loss: 23.1444 - mse: 801.9927\n",
      "Epoch 55/100\n",
      "2/2 [==============================] - 0s 3ms/step - loss: 23.9899 - mse: 865.7531\n",
      "Epoch 56/100\n",
      "2/2 [==============================] - 0s 3ms/step - loss: 11.1469 - mse: 171.0536\n",
      "Epoch 57/100\n",
      "2/2 [==============================] - 0s 3ms/step - loss: 13.0952 - mse: 213.0885\n",
      "Epoch 58/100\n",
      "2/2 [==============================] - 0s 4ms/step - loss: 9.7982 - mse: 105.9808\n",
      "Epoch 59/100\n",
      "2/2 [==============================] - 0s 3ms/step - loss: 13.2764 - mse: 247.6756\n",
      "Epoch 60/100\n",
      "2/2 [==============================] - 0s 3ms/step - loss: 10.8530 - mse: 138.6582\n",
      "Epoch 61/100\n",
      "2/2 [==============================] - 0s 4ms/step - loss: 13.4452 - mse: 240.0657\n",
      "Epoch 62/100\n",
      "2/2 [==============================] - 0s 3ms/step - loss: 17.4450 - mse: 464.2147\n",
      "Epoch 63/100\n",
      "2/2 [==============================] - 0s 3ms/step - loss: 9.1475 - mse: 87.6525\n",
      "Epoch 64/100\n",
      "2/2 [==============================] - 0s 4ms/step - loss: 18.3146 - mse: 487.6150\n",
      "Epoch 65/100\n",
      "2/2 [==============================] - 0s 3ms/step - loss: 10.1021 - mse: 114.3316\n",
      "Epoch 66/100\n",
      "2/2 [==============================] - 0s 3ms/step - loss: 24.1582 - mse: 879.9637\n",
      "Epoch 67/100\n",
      "2/2 [==============================] - 0s 3ms/step - loss: 10.8590 - mse: 141.4854\n",
      "Epoch 68/100\n",
      "2/2 [==============================] - 0s 4ms/step - loss: 10.7487 - mse: 157.1618\n",
      "Epoch 69/100\n",
      "2/2 [==============================] - 0s 3ms/step - loss: 23.1279 - mse: 772.6791\n",
      "Epoch 70/100\n",
      "2/2 [==============================] - 0s 3ms/step - loss: 8.8358 - mse: 143.0098\n",
      "Epoch 71/100\n",
      "2/2 [==============================] - 0s 3ms/step - loss: 16.0606 - mse: 351.8150\n",
      "Epoch 72/100\n",
      "2/2 [==============================] - 0s 3ms/step - loss: 7.7525 - mse: 91.3200\n",
      "Epoch 73/100\n",
      "2/2 [==============================] - 0s 3ms/step - loss: 10.1579 - mse: 165.2939\n",
      "Epoch 74/100\n",
      "2/2 [==============================] - 0s 3ms/step - loss: 28.3373 - mse: 1123.8286\n",
      "Epoch 75/100\n",
      "2/2 [==============================] - 0s 4ms/step - loss: 10.0042 - mse: 146.1906\n",
      "Epoch 76/100\n",
      "2/2 [==============================] - 0s 3ms/step - loss: 12.9183 - mse: 207.5385\n",
      "Epoch 77/100\n",
      "2/2 [==============================] - 0s 3ms/step - loss: 17.8718 - mse: 497.6303\n",
      "Epoch 78/100\n",
      "2/2 [==============================] - 0s 3ms/step - loss: 8.9612 - mse: 87.7031\n",
      "Epoch 79/100\n",
      "2/2 [==============================] - 0s 3ms/step - loss: 28.6911 - mse: 1299.5929\n",
      "Epoch 80/100\n",
      "2/2 [==============================] - 0s 4ms/step - loss: 31.0236 - mse: 1527.9818\n",
      "Epoch 81/100\n",
      "2/2 [==============================] - 0s 3ms/step - loss: 13.3962 - mse: 250.8722\n",
      "Epoch 82/100\n",
      "2/2 [==============================] - 0s 3ms/step - loss: 14.5234 - mse: 291.0716\n",
      "Epoch 83/100\n",
      "2/2 [==============================] - 0s 4ms/step - loss: 18.5448 - mse: 453.8673\n",
      "Epoch 84/100\n",
      "2/2 [==============================] - 0s 3ms/step - loss: 8.8153 - mse: 127.8730\n",
      "Epoch 85/100\n",
      "2/2 [==============================] - 0s 3ms/step - loss: 18.4230 - mse: 531.2258\n",
      "Epoch 86/100\n",
      "2/2 [==============================] - 0s 3ms/step - loss: 22.5381 - mse: 726.4482\n",
      "Epoch 87/100\n",
      "2/2 [==============================] - 0s 3ms/step - loss: 11.3653 - mse: 153.7485\n",
      "Epoch 88/100\n",
      "2/2 [==============================] - 0s 3ms/step - loss: 26.5547 - mse: 1007.0737\n",
      "Epoch 89/100\n",
      "2/2 [==============================] - 0s 3ms/step - loss: 9.6504 - mse: 129.9496\n",
      "Epoch 90/100\n",
      "2/2 [==============================] - 0s 3ms/step - loss: 18.7076 - mse: 501.7740\n",
      "Epoch 91/100\n",
      "2/2 [==============================] - 0s 4ms/step - loss: 10.4814 - mse: 164.7883\n",
      "Epoch 92/100\n",
      "2/2 [==============================] - 0s 3ms/step - loss: 17.9307 - mse: 439.6771\n",
      "Epoch 93/100\n",
      "2/2 [==============================] - 0s 3ms/step - loss: 6.5886 - mse: 62.2621\n",
      "Epoch 94/100\n",
      "2/2 [==============================] - 0s 3ms/step - loss: 11.1270 - mse: 152.0942\n",
      "Epoch 95/100\n",
      "2/2 [==============================] - 0s 4ms/step - loss: 24.2534 - mse: 881.9855\n",
      "Epoch 96/100\n",
      "2/2 [==============================] - 0s 4ms/step - loss: 10.7292 - mse: 173.6250\n",
      "Epoch 97/100\n",
      "2/2 [==============================] - 0s 3ms/step - loss: 15.2824 - mse: 353.5219\n",
      "Epoch 98/100\n",
      "2/2 [==============================] - 0s 3ms/step - loss: 8.2519 - mse: 112.4346\n",
      "Epoch 99/100\n",
      "2/2 [==============================] - 0s 4ms/step - loss: 16.4393 - mse: 379.7337\n",
      "Epoch 100/100\n",
      "2/2 [==============================] - 0s 3ms/step - loss: 13.8568 - mse: 274.1388\n"
     ]
    },
    {
     "data": {
      "text/plain": [
       "<keras.callbacks.History at 0x1b8b953ddf0>"
      ]
     },
     "execution_count": 45,
     "metadata": {},
     "output_type": "execute_result"
    }
   ],
   "source": [
    "model_2 = tf.keras.Sequential([\n",
    "    tf.keras.layers.Dense(10),\n",
    "    tf.keras.layers.Dense(1),\n",
    "])\n",
    "\n",
    "model_2.compile(metrics=['mse'],\n",
    "                loss=tf.keras.losses.mae,\n",
    "                optimizer=tf.keras.optimizers.SGD()\n",
    "                )\n",
    "\n",
    "model_2.fit(tf.expand_dims(X_train,axis = -1),y_train,epochs = 100)"
   ]
  },
  {
   "cell_type": "code",
   "execution_count": 46,
   "metadata": {},
   "outputs": [
    {
     "name": "stdout",
     "output_type": "stream",
     "text": [
      "WARNING:tensorflow:6 out of the last 7 calls to <function Model.make_predict_function.<locals>.predict_function at 0x000001B8B9502EE0> triggered tf.function retracing. Tracing is expensive and the excessive number of tracings could be due to (1) creating @tf.function repeatedly in a loop, (2) passing tensors with different shapes, (3) passing Python objects instead of tensors. For (1), please define your @tf.function outside of the loop. For (2), @tf.function has reduce_retracing=True option that can avoid unnecessary retracing. For (3), please refer to https://www.tensorflow.org/guide/function#controlling_retracing and https://www.tensorflow.org/api_docs/python/tf/function for  more details.\n",
      "1/1 [==============================] - 0s 34ms/step\n"
     ]
    },
    {
     "data": {
      "image/png": "[encoded data removed]",
      "text/plain": [
       "<Figure size 1000x700 with 1 Axes>"
      ]
     },
     "metadata": {},
     "output_type": "display_data"
    }
   ],
   "source": [
    "\n",
    "y_pred_2 = model_2.predict(X_test)\n",
    "\n",
    "plot_predictions(predictions=y_pred_2)"
   ]
  },
  {
   "cell_type": "code",
   "execution_count": 47,
   "metadata": {},
   "outputs": [],
   "source": [
    "mae_2 = mae(y_test,y_pred_2)\n",
    "mse_2 = mse(y_test,y_pred_2)"
   ]
  },
  {
   "cell_type": "code",
   "execution_count": 48,
   "metadata": {},
   "outputs": [
    {
     "data": {
      "text/plain": [
       "(<tf.Tensor: shape=(), dtype=float32, numpy=17.559278>,\n",
       " <tf.Tensor: shape=(), dtype=float32, numpy=322.80664>)"
      ]
     },
     "execution_count": 48,
     "metadata": {},
     "output_type": "execute_result"
    }
   ],
   "source": [
    "mae_2 , mse_2"
   ]
  },
  {
   "cell_type": "markdown",
   "metadata": {},
   "source": [
    "**Build mode_3**"
   ]
  },
  {
   "cell_type": "code",
   "execution_count": 49,
   "metadata": {},
   "outputs": [
    {
     "name": "stdout",
     "output_type": "stream",
     "text": [
      "Epoch 1/500\n",
      "2/2 [==============================] - 0s 3ms/step - loss: 70.8745 - mae: 70.8745\n",
      "Epoch 2/500\n",
      "2/2 [==============================] - 0s 3ms/step - loss: 35.5393 - mae: 35.5393\n",
      "Epoch 3/500\n",
      "2/2 [==============================] - 0s 4ms/step - loss: 37.4687 - mae: 37.4687\n",
      "Epoch 4/500\n",
      "2/2 [==============================] - 0s 3ms/step - loss: 15.0038 - mae: 15.0038\n",
      "Epoch 5/500\n",
      "2/2 [==============================] - 0s 3ms/step - loss: 21.8547 - mae: 21.8547\n",
      "Epoch 6/500\n",
      "2/2 [==============================] - 0s 3ms/step - loss: 8.7009 - mae: 8.7009\n",
      "Epoch 7/500\n",
      "2/2 [==============================] - 0s 3ms/step - loss: 12.7725 - mae: 12.7725\n",
      "Epoch 8/500\n",
      "2/2 [==============================] - 0s 4ms/step - loss: 11.1881 - mae: 11.1881\n",
      "Epoch 9/500\n",
      "2/2 [==============================] - 0s 4ms/step - loss: 41.0084 - mae: 41.0084\n",
      "Epoch 10/500\n",
      "2/2 [==============================] - 0s 3ms/step - loss: 28.3378 - mae: 28.3378\n",
      "Epoch 11/500\n",
      "2/2 [==============================] - 0s 3ms/step - loss: 10.2566 - mae: 10.2566\n",
      "Epoch 12/500\n",
      "2/2 [==============================] - 0s 3ms/step - loss: 25.2895 - mae: 25.2895\n",
      "Epoch 13/500\n",
      "2/2 [==============================] - 0s 3ms/step - loss: 17.6811 - mae: 17.6811\n",
      "Epoch 14/500\n",
      "2/2 [==============================] - 0s 3ms/step - loss: 23.8936 - mae: 23.8936\n",
      "Epoch 15/500\n",
      "2/2 [==============================] - 0s 4ms/step - loss: 15.8962 - mae: 15.8962\n",
      "Epoch 16/500\n",
      "2/2 [==============================] - 0s 3ms/step - loss: 10.4778 - mae: 10.4778\n",
      "Epoch 17/500\n",
      "2/2 [==============================] - 0s 3ms/step - loss: 20.1612 - mae: 20.1612\n",
      "Epoch 18/500\n",
      "2/2 [==============================] - 0s 3ms/step - loss: 10.8687 - mae: 10.8687\n",
      "Epoch 19/500\n",
      "2/2 [==============================] - 0s 3ms/step - loss: 10.7618 - mae: 10.7618\n",
      "Epoch 20/500\n",
      "2/2 [==============================] - 0s 3ms/step - loss: 12.0853 - mae: 12.0853\n",
      "Epoch 21/500\n",
      "2/2 [==============================] - 0s 3ms/step - loss: 20.3140 - mae: 20.3140\n",
      "Epoch 22/500\n",
      "2/2 [==============================] - 0s 3ms/step - loss: 13.8732 - mae: 13.8732\n",
      "Epoch 23/500\n",
      "2/2 [==============================] - 0s 4ms/step - loss: 9.5820 - mae: 9.5820\n",
      "Epoch 24/500\n",
      "2/2 [==============================] - 0s 3ms/step - loss: 11.9444 - mae: 11.9444\n",
      "Epoch 25/500\n",
      "2/2 [==============================] - 0s 4ms/step - loss: 16.3556 - mae: 16.3556\n",
      "Epoch 26/500\n",
      "2/2 [==============================] - 0s 3ms/step - loss: 16.5391 - mae: 16.5391\n",
      "Epoch 27/500\n",
      "2/2 [==============================] - 0s 3ms/step - loss: 11.6207 - mae: 11.6207\n",
      "Epoch 28/500\n",
      "2/2 [==============================] - 0s 3ms/step - loss: 30.2766 - mae: 30.2766\n",
      "Epoch 29/500\n",
      "2/2 [==============================] - 0s 4ms/step - loss: 9.2433 - mae: 9.2433\n",
      "Epoch 30/500\n",
      "2/2 [==============================] - 0s 4ms/step - loss: 30.7746 - mae: 30.7746\n",
      "Epoch 31/500\n",
      "2/2 [==============================] - 0s 4ms/step - loss: 42.1156 - mae: 42.1156\n",
      "Epoch 32/500\n",
      "2/2 [==============================] - 0s 3ms/step - loss: 11.9155 - mae: 11.9155\n",
      "Epoch 33/500\n",
      "2/2 [==============================] - 0s 3ms/step - loss: 15.5396 - mae: 15.5396\n",
      "Epoch 34/500\n",
      "2/2 [==============================] - 0s 5ms/step - loss: 12.6108 - mae: 12.6108\n",
      "Epoch 35/500\n",
      "2/2 [==============================] - 0s 6ms/step - loss: 9.1889 - mae: 9.1889\n",
      "Epoch 36/500\n",
      "2/2 [==============================] - 0s 3ms/step - loss: 16.5612 - mae: 16.5612\n",
      "Epoch 37/500\n",
      "2/2 [==============================] - 0s 3ms/step - loss: 11.0372 - mae: 11.0372\n",
      "Epoch 38/500\n",
      "2/2 [==============================] - 0s 4ms/step - loss: 18.1650 - mae: 18.1650\n",
      "Epoch 39/500\n",
      "2/2 [==============================] - 0s 3ms/step - loss: 19.0989 - mae: 19.0989\n",
      "Epoch 40/500\n",
      "2/2 [==============================] - 0s 3ms/step - loss: 20.4352 - mae: 20.4352\n",
      "Epoch 41/500\n",
      "2/2 [==============================] - 0s 3ms/step - loss: 14.8636 - mae: 14.8636\n",
      "Epoch 42/500\n",
      "2/2 [==============================] - 0s 4ms/step - loss: 12.2443 - mae: 12.2443\n",
      "Epoch 43/500\n",
      "2/2 [==============================] - 0s 3ms/step - loss: 10.6996 - mae: 10.6996\n",
      "Epoch 44/500\n",
      "2/2 [==============================] - 0s 3ms/step - loss: 23.0468 - mae: 23.0468\n",
      "Epoch 45/500\n",
      "2/2 [==============================] - 0s 3ms/step - loss: 10.3648 - mae: 10.3648\n",
      "Epoch 46/500\n",
      "2/2 [==============================] - 0s 4ms/step - loss: 11.7731 - mae: 11.7731\n",
      "Epoch 47/500\n",
      "2/2 [==============================] - 0s 3ms/step - loss: 9.6142 - mae: 9.6142\n",
      "Epoch 48/500\n",
      "2/2 [==============================] - 0s 4ms/step - loss: 17.1941 - mae: 17.1941\n",
      "Epoch 49/500\n",
      "2/2 [==============================] - 0s 3ms/step - loss: 9.5624 - mae: 9.5624\n",
      "Epoch 50/500\n",
      "2/2 [==============================] - 0s 3ms/step - loss: 13.8270 - mae: 13.8270\n",
      "Epoch 51/500\n",
      "2/2 [==============================] - 0s 3ms/step - loss: 11.5807 - mae: 11.5807\n",
      "Epoch 52/500\n",
      "2/2 [==============================] - 0s 3ms/step - loss: 30.6989 - mae: 30.6989\n",
      "Epoch 53/500\n",
      "2/2 [==============================] - 0s 3ms/step - loss: 14.4026 - mae: 14.4026\n",
      "Epoch 54/500\n",
      "2/2 [==============================] - 0s 3ms/step - loss: 24.0802 - mae: 24.0802\n",
      "Epoch 55/500\n",
      "2/2 [==============================] - 0s 3ms/step - loss: 23.3060 - mae: 23.3060\n",
      "Epoch 56/500\n",
      "2/2 [==============================] - 0s 3ms/step - loss: 10.8903 - mae: 10.8903\n",
      "Epoch 57/500\n",
      "2/2 [==============================] - 0s 3ms/step - loss: 12.7715 - mae: 12.7715\n",
      "Epoch 58/500\n",
      "2/2 [==============================] - 0s 4ms/step - loss: 9.6058 - mae: 9.6058\n",
      "Epoch 59/500\n",
      "2/2 [==============================] - 0s 3ms/step - loss: 12.9538 - mae: 12.9538\n",
      "Epoch 60/500\n",
      "2/2 [==============================] - 0s 3ms/step - loss: 10.6480 - mae: 10.6480\n",
      "Epoch 61/500\n",
      "2/2 [==============================] - 0s 4ms/step - loss: 17.4318 - mae: 17.4318\n",
      "Epoch 62/500\n",
      "2/2 [==============================] - 0s 3ms/step - loss: 10.5706 - mae: 10.5706\n",
      "Epoch 63/500\n",
      "2/2 [==============================] - 0s 3ms/step - loss: 10.4575 - mae: 10.4575\n",
      "Epoch 64/500\n",
      "2/2 [==============================] - 0s 3ms/step - loss: 24.8552 - mae: 24.8552\n",
      "Epoch 65/500\n",
      "2/2 [==============================] - 0s 4ms/step - loss: 10.6466 - mae: 10.6466\n",
      "Epoch 66/500\n",
      "2/2 [==============================] - 0s 3ms/step - loss: 21.9842 - mae: 21.9842\n",
      "Epoch 67/500\n",
      "2/2 [==============================] - 0s 4ms/step - loss: 10.1682 - mae: 10.1682\n",
      "Epoch 68/500\n",
      "2/2 [==============================] - 0s 3ms/step - loss: 13.3438 - mae: 13.3438\n",
      "Epoch 69/500\n",
      "2/2 [==============================] - 0s 2ms/step - loss: 11.3294 - mae: 11.3294\n",
      "Epoch 70/500\n",
      "2/2 [==============================] - 0s 3ms/step - loss: 13.5084 - mae: 13.5084\n",
      "Epoch 71/500\n",
      "2/2 [==============================] - 0s 3ms/step - loss: 15.5219 - mae: 15.5219\n",
      "Epoch 72/500\n",
      "2/2 [==============================] - 0s 3ms/step - loss: 11.7690 - mae: 11.7690\n",
      "Epoch 73/500\n",
      "2/2 [==============================] - 0s 4ms/step - loss: 16.5521 - mae: 16.5521\n",
      "Epoch 74/500\n",
      "2/2 [==============================] - 0s 3ms/step - loss: 24.0737 - mae: 24.0737\n",
      "Epoch 75/500\n",
      "2/2 [==============================] - 0s 3ms/step - loss: 9.5699 - mae: 9.5699\n",
      "Epoch 76/500\n",
      "2/2 [==============================] - 0s 4ms/step - loss: 12.4216 - mae: 12.4216\n",
      "Epoch 77/500\n",
      "2/2 [==============================] - 0s 3ms/step - loss: 16.6887 - mae: 16.6887\n",
      "Epoch 78/500\n",
      "2/2 [==============================] - 0s 3ms/step - loss: 9.0361 - mae: 9.0361\n",
      "Epoch 79/500\n",
      "2/2 [==============================] - 0s 4ms/step - loss: 24.0481 - mae: 24.0481\n",
      "Epoch 80/500\n",
      "2/2 [==============================] - 0s 3ms/step - loss: 26.8421 - mae: 26.8421\n",
      "Epoch 81/500\n",
      "2/2 [==============================] - 0s 2ms/step - loss: 11.6874 - mae: 11.6874\n",
      "Epoch 82/500\n",
      "2/2 [==============================] - 0s 3ms/step - loss: 11.9794 - mae: 11.9794\n",
      "Epoch 83/500\n",
      "2/2 [==============================] - 0s 3ms/step - loss: 17.3582 - mae: 17.3582\n",
      "Epoch 84/500\n",
      "2/2 [==============================] - 0s 3ms/step - loss: 7.2258 - mae: 7.2258\n",
      "Epoch 85/500\n",
      "2/2 [==============================] - 0s 3ms/step - loss: 14.9064 - mae: 14.9064\n",
      "Epoch 86/500\n",
      "2/2 [==============================] - 0s 4ms/step - loss: 15.2353 - mae: 15.2353\n",
      "Epoch 87/500\n",
      "2/2 [==============================] - 0s 4ms/step - loss: 19.0174 - mae: 19.0174\n",
      "Epoch 88/500\n",
      "2/2 [==============================] - 0s 4ms/step - loss: 30.0494 - mae: 30.0494\n",
      "Epoch 89/500\n",
      "2/2 [==============================] - 0s 4ms/step - loss: 10.1804 - mae: 10.1804\n",
      "Epoch 90/500\n",
      "2/2 [==============================] - 0s 3ms/step - loss: 21.7242 - mae: 21.7242\n",
      "Epoch 91/500\n",
      "2/2 [==============================] - 0s 3ms/step - loss: 10.5954 - mae: 10.5954\n",
      "Epoch 92/500\n",
      "2/2 [==============================] - 0s 3ms/step - loss: 18.5869 - mae: 18.5869\n",
      "Epoch 93/500\n",
      "2/2 [==============================] - 0s 4ms/step - loss: 8.1510 - mae: 8.1510\n",
      "Epoch 94/500\n",
      "2/2 [==============================] - 0s 3ms/step - loss: 11.3681 - mae: 11.3681\n",
      "Epoch 95/500\n",
      "2/2 [==============================] - 0s 4ms/step - loss: 25.5766 - mae: 25.5766\n",
      "Epoch 96/500\n",
      "2/2 [==============================] - 0s 3ms/step - loss: 10.9920 - mae: 10.9920\n",
      "Epoch 97/500\n",
      "2/2 [==============================] - 0s 3ms/step - loss: 16.4038 - mae: 16.4038\n",
      "Epoch 98/500\n",
      "2/2 [==============================] - 0s 3ms/step - loss: 6.7981 - mae: 6.7981\n",
      "Epoch 99/500\n",
      "2/2 [==============================] - 0s 3ms/step - loss: 11.6597 - mae: 11.6597\n",
      "Epoch 100/500\n",
      "2/2 [==============================] - 0s 4ms/step - loss: 23.4557 - mae: 23.4557\n",
      "Epoch 101/500\n",
      "2/2 [==============================] - 0s 4ms/step - loss: 21.3748 - mae: 21.3748\n",
      "Epoch 102/500\n",
      "2/2 [==============================] - 0s 3ms/step - loss: 10.7677 - mae: 10.7677\n",
      "Epoch 103/500\n",
      "2/2 [==============================] - 0s 3ms/step - loss: 9.1509 - mae: 9.1509\n",
      "Epoch 104/500\n",
      "2/2 [==============================] - 0s 4ms/step - loss: 24.0135 - mae: 24.0135\n",
      "Epoch 105/500\n",
      "2/2 [==============================] - 0s 3ms/step - loss: 10.8575 - mae: 10.8575\n",
      "Epoch 106/500\n",
      "2/2 [==============================] - 0s 3ms/step - loss: 11.3190 - mae: 11.3190\n",
      "Epoch 107/500\n",
      "2/2 [==============================] - 0s 3ms/step - loss: 21.6298 - mae: 21.6298\n",
      "Epoch 108/500\n",
      "2/2 [==============================] - 0s 3ms/step - loss: 7.1838 - mae: 7.1838\n",
      "Epoch 109/500\n",
      "2/2 [==============================] - 0s 4ms/step - loss: 18.8553 - mae: 18.8553\n",
      "Epoch 110/500\n",
      "2/2 [==============================] - 0s 4ms/step - loss: 11.0416 - mae: 11.0416\n",
      "Epoch 111/500\n",
      "2/2 [==============================] - 0s 7ms/step - loss: 17.5941 - mae: 17.5941\n",
      "Epoch 112/500\n",
      "2/2 [==============================] - 0s 6ms/step - loss: 6.5320 - mae: 6.5320\n",
      "Epoch 113/500\n",
      "2/2 [==============================] - 0s 4ms/step - loss: 13.5387 - mae: 13.5387\n",
      "Epoch 114/500\n",
      "2/2 [==============================] - 0s 3ms/step - loss: 20.1145 - mae: 20.1145\n",
      "Epoch 115/500\n",
      "2/2 [==============================] - 0s 3ms/step - loss: 10.8308 - mae: 10.8308\n",
      "Epoch 116/500\n",
      "2/2 [==============================] - 0s 3ms/step - loss: 22.3292 - mae: 22.3292\n",
      "Epoch 117/500\n",
      "2/2 [==============================] - 0s 4ms/step - loss: 9.2850 - mae: 9.2850\n",
      "Epoch 118/500\n",
      "2/2 [==============================] - 0s 3ms/step - loss: 10.3167 - mae: 10.3167\n",
      "Epoch 119/500\n",
      "2/2 [==============================] - 0s 3ms/step - loss: 7.9782 - mae: 7.9782\n",
      "Epoch 120/500\n",
      "2/2 [==============================] - 0s 3ms/step - loss: 37.8135 - mae: 37.8135\n",
      "Epoch 121/500\n",
      "2/2 [==============================] - 0s 3ms/step - loss: 10.6550 - mae: 10.6550\n",
      "Epoch 122/500\n",
      "2/2 [==============================] - 0s 4ms/step - loss: 28.3552 - mae: 28.3552\n",
      "Epoch 123/500\n",
      "2/2 [==============================] - 0s 3ms/step - loss: 32.9591 - mae: 32.9591\n",
      "Epoch 124/500\n",
      "2/2 [==============================] - 0s 3ms/step - loss: 19.6720 - mae: 19.6720\n",
      "Epoch 125/500\n",
      "2/2 [==============================] - 0s 3ms/step - loss: 7.0049 - mae: 7.0049\n",
      "Epoch 126/500\n",
      "2/2 [==============================] - 0s 3ms/step - loss: 21.8538 - mae: 21.8538\n",
      "Epoch 127/500\n",
      "2/2 [==============================] - 0s 3ms/step - loss: 7.9848 - mae: 7.9848\n",
      "Epoch 128/500\n",
      "2/2 [==============================] - 0s 3ms/step - loss: 21.1066 - mae: 21.1066\n",
      "Epoch 129/500\n",
      "2/2 [==============================] - 0s 3ms/step - loss: 9.0156 - mae: 9.0156\n",
      "Epoch 130/500\n",
      "2/2 [==============================] - 0s 3ms/step - loss: 24.1079 - mae: 24.1079\n",
      "Epoch 131/500\n",
      "2/2 [==============================] - 0s 5ms/step - loss: 9.7628 - mae: 9.7628\n",
      "Epoch 132/500\n",
      "2/2 [==============================] - 0s 3ms/step - loss: 18.3575 - mae: 18.3575\n",
      "Epoch 133/500\n",
      "2/2 [==============================] - 0s 4ms/step - loss: 7.5873 - mae: 7.5873\n",
      "Epoch 134/500\n",
      "2/2 [==============================] - 0s 3ms/step - loss: 18.6275 - mae: 18.6275\n",
      "Epoch 135/500\n",
      "2/2 [==============================] - 0s 3ms/step - loss: 10.5497 - mae: 10.5497\n",
      "Epoch 136/500\n",
      "2/2 [==============================] - 0s 4ms/step - loss: 18.3155 - mae: 18.3155\n",
      "Epoch 137/500\n",
      "2/2 [==============================] - 0s 3ms/step - loss: 23.2329 - mae: 23.2329\n",
      "Epoch 138/500\n",
      "2/2 [==============================] - 0s 4ms/step - loss: 9.1592 - mae: 9.1592\n",
      "Epoch 139/500\n",
      "2/2 [==============================] - 0s 3ms/step - loss: 8.9316 - mae: 8.9316\n",
      "Epoch 140/500\n",
      "2/2 [==============================] - 0s 3ms/step - loss: 16.5268 - mae: 16.5268\n",
      "Epoch 141/500\n",
      "2/2 [==============================] - 0s 4ms/step - loss: 8.4195 - mae: 8.4195\n",
      "Epoch 142/500\n",
      "2/2 [==============================] - 0s 4ms/step - loss: 37.0657 - mae: 37.0657\n",
      "Epoch 143/500\n",
      "2/2 [==============================] - 0s 3ms/step - loss: 25.6704 - mae: 25.6704\n",
      "Epoch 144/500\n",
      "2/2 [==============================] - 0s 4ms/step - loss: 9.5327 - mae: 9.5327\n",
      "Epoch 145/500\n",
      "2/2 [==============================] - 0s 4ms/step - loss: 26.5781 - mae: 26.5781\n",
      "Epoch 146/500\n",
      "2/2 [==============================] - 0s 3ms/step - loss: 8.7607 - mae: 8.7607\n",
      "Epoch 147/500\n",
      "2/2 [==============================] - 0s 3ms/step - loss: 15.5901 - mae: 15.5901\n",
      "Epoch 148/500\n",
      "2/2 [==============================] - 0s 3ms/step - loss: 18.2698 - mae: 18.2698\n",
      "Epoch 149/500\n",
      "2/2 [==============================] - 0s 3ms/step - loss: 8.2263 - mae: 8.2263\n",
      "Epoch 150/500\n",
      "2/2 [==============================] - 0s 3ms/step - loss: 7.5041 - mae: 7.5041\n",
      "Epoch 151/500\n",
      "2/2 [==============================] - 0s 4ms/step - loss: 18.4183 - mae: 18.4183\n",
      "Epoch 152/500\n",
      "2/2 [==============================] - 0s 3ms/step - loss: 10.3068 - mae: 10.3068\n",
      "Epoch 153/500\n",
      "2/2 [==============================] - 0s 3ms/step - loss: 29.7727 - mae: 29.7727\n",
      "Epoch 154/500\n",
      "2/2 [==============================] - 0s 3ms/step - loss: 10.5283 - mae: 10.5283\n",
      "Epoch 155/500\n",
      "2/2 [==============================] - 0s 3ms/step - loss: 15.4285 - mae: 15.4285\n",
      "Epoch 156/500\n",
      "2/2 [==============================] - 0s 4ms/step - loss: 16.9618 - mae: 16.9618\n",
      "Epoch 157/500\n",
      "2/2 [==============================] - 0s 3ms/step - loss: 32.9668 - mae: 32.9668\n",
      "Epoch 158/500\n",
      "2/2 [==============================] - 0s 3ms/step - loss: 10.7431 - mae: 10.7431\n",
      "Epoch 159/500\n",
      "2/2 [==============================] - 0s 3ms/step - loss: 8.9219 - mae: 8.9219\n",
      "Epoch 160/500\n",
      "2/2 [==============================] - 0s 4ms/step - loss: 22.2403 - mae: 22.2403\n",
      "Epoch 161/500\n",
      "2/2 [==============================] - 0s 3ms/step - loss: 11.7510 - mae: 11.7510\n",
      "Epoch 162/500\n",
      "2/2 [==============================] - 0s 3ms/step - loss: 21.6756 - mae: 21.6756\n",
      "Epoch 163/500\n",
      "2/2 [==============================] - 0s 4ms/step - loss: 19.3454 - mae: 19.3454\n",
      "Epoch 164/500\n",
      "2/2 [==============================] - 0s 3ms/step - loss: 11.0744 - mae: 11.0744\n",
      "Epoch 165/500\n",
      "2/2 [==============================] - 0s 3ms/step - loss: 9.5989 - mae: 9.5989\n",
      "Epoch 166/500\n",
      "2/2 [==============================] - 0s 3ms/step - loss: 21.5364 - mae: 21.5364\n",
      "Epoch 167/500\n",
      "2/2 [==============================] - 0s 4ms/step - loss: 26.4221 - mae: 26.4221\n",
      "Epoch 168/500\n",
      "2/2 [==============================] - 0s 3ms/step - loss: 9.8747 - mae: 9.8747\n",
      "Epoch 169/500\n",
      "2/2 [==============================] - 0s 3ms/step - loss: 22.7040 - mae: 22.7040\n",
      "Epoch 170/500\n",
      "2/2 [==============================] - 0s 3ms/step - loss: 10.1251 - mae: 10.1251\n",
      "Epoch 171/500\n",
      "2/2 [==============================] - 0s 4ms/step - loss: 17.9844 - mae: 17.9844\n",
      "Epoch 172/500\n",
      "2/2 [==============================] - 0s 4ms/step - loss: 28.9868 - mae: 28.9868\n",
      "Epoch 173/500\n",
      "2/2 [==============================] - 0s 5ms/step - loss: 16.6445 - mae: 16.6445\n",
      "Epoch 174/500\n",
      "2/2 [==============================] - 0s 3ms/step - loss: 11.1966 - mae: 11.1966\n",
      "Epoch 175/500\n",
      "2/2 [==============================] - 0s 3ms/step - loss: 27.5448 - mae: 27.5448\n",
      "Epoch 176/500\n",
      "2/2 [==============================] - 0s 3ms/step - loss: 8.3066 - mae: 8.3066\n",
      "Epoch 177/500\n",
      "2/2 [==============================] - 0s 4ms/step - loss: 9.2864 - mae: 9.2864\n",
      "Epoch 178/500\n",
      "2/2 [==============================] - 0s 3ms/step - loss: 18.2725 - mae: 18.2725\n",
      "Epoch 179/500\n",
      "2/2 [==============================] - 0s 3ms/step - loss: 10.5398 - mae: 10.5398\n",
      "Epoch 180/500\n",
      "2/2 [==============================] - 0s 3ms/step - loss: 7.9179 - mae: 7.9179\n",
      "Epoch 181/500\n",
      "2/2 [==============================] - 0s 4ms/step - loss: 17.5131 - mae: 17.5131\n",
      "Epoch 182/500\n",
      "2/2 [==============================] - 0s 4ms/step - loss: 11.0560 - mae: 11.0560\n",
      "Epoch 183/500\n",
      "2/2 [==============================] - 0s 3ms/step - loss: 11.7555 - mae: 11.7555\n",
      "Epoch 184/500\n",
      "2/2 [==============================] - 0s 3ms/step - loss: 30.5886 - mae: 30.5886\n",
      "Epoch 185/500\n",
      "2/2 [==============================] - 0s 3ms/step - loss: 7.5379 - mae: 7.5379\n",
      "Epoch 186/500\n",
      "2/2 [==============================] - 0s 3ms/step - loss: 15.9315 - mae: 15.9315\n",
      "Epoch 187/500\n",
      "2/2 [==============================] - 0s 3ms/step - loss: 8.5726 - mae: 8.5726\n",
      "Epoch 188/500\n",
      "2/2 [==============================] - 0s 3ms/step - loss: 28.9225 - mae: 28.9225\n",
      "Epoch 189/500\n",
      "2/2 [==============================] - 0s 4ms/step - loss: 13.1290 - mae: 13.1290\n",
      "Epoch 190/500\n",
      "2/2 [==============================] - 0s 3ms/step - loss: 18.2655 - mae: 18.2655\n",
      "Epoch 191/500\n",
      "2/2 [==============================] - 0s 3ms/step - loss: 13.6847 - mae: 13.6847\n",
      "Epoch 192/500\n",
      "2/2 [==============================] - 0s 3ms/step - loss: 13.6883 - mae: 13.6883\n",
      "Epoch 193/500\n",
      "2/2 [==============================] - 0s 4ms/step - loss: 28.5402 - mae: 28.5402\n",
      "Epoch 194/500\n",
      "2/2 [==============================] - 0s 4ms/step - loss: 7.1177 - mae: 7.1177\n",
      "Epoch 195/500\n",
      "2/2 [==============================] - 0s 3ms/step - loss: 7.0493 - mae: 7.0493\n",
      "Epoch 196/500\n",
      "2/2 [==============================] - 0s 3ms/step - loss: 21.9379 - mae: 21.9379\n",
      "Epoch 197/500\n",
      "2/2 [==============================] - 0s 3ms/step - loss: 20.9867 - mae: 20.9867\n",
      "Epoch 198/500\n",
      "2/2 [==============================] - 0s 3ms/step - loss: 12.5534 - mae: 12.5534\n",
      "Epoch 199/500\n",
      "2/2 [==============================] - 0s 3ms/step - loss: 18.0335 - mae: 18.0335\n",
      "Epoch 200/500\n",
      "2/2 [==============================] - 0s 4ms/step - loss: 13.8642 - mae: 13.8642\n",
      "Epoch 201/500\n",
      "2/2 [==============================] - 0s 3ms/step - loss: 6.0274 - mae: 6.0274\n",
      "Epoch 202/500\n",
      "2/2 [==============================] - 0s 3ms/step - loss: 22.9030 - mae: 22.9030\n",
      "Epoch 203/500\n",
      "2/2 [==============================] - 0s 4ms/step - loss: 8.9523 - mae: 8.9523\n",
      "Epoch 204/500\n",
      "2/2 [==============================] - 0s 3ms/step - loss: 18.8769 - mae: 18.8769\n",
      "Epoch 205/500\n",
      "2/2 [==============================] - 0s 3ms/step - loss: 9.3657 - mae: 9.3657\n",
      "Epoch 206/500\n",
      "2/2 [==============================] - 0s 4ms/step - loss: 10.4320 - mae: 10.4320\n",
      "Epoch 207/500\n",
      "2/2 [==============================] - 0s 3ms/step - loss: 21.1697 - mae: 21.1697\n",
      "Epoch 208/500\n",
      "2/2 [==============================] - 0s 3ms/step - loss: 16.5123 - mae: 16.5123\n",
      "Epoch 209/500\n",
      "2/2 [==============================] - 0s 3ms/step - loss: 14.4171 - mae: 14.4171\n",
      "Epoch 210/500\n",
      "2/2 [==============================] - 0s 3ms/step - loss: 19.4484 - mae: 19.4484\n",
      "Epoch 211/500\n",
      "2/2 [==============================] - 0s 4ms/step - loss: 10.3163 - mae: 10.3163\n",
      "Epoch 212/500\n",
      "2/2 [==============================] - 0s 3ms/step - loss: 20.2579 - mae: 20.2579\n",
      "Epoch 213/500\n",
      "2/2 [==============================] - 0s 4ms/step - loss: 15.0366 - mae: 15.0366\n",
      "Epoch 214/500\n",
      "2/2 [==============================] - 0s 3ms/step - loss: 14.5864 - mae: 14.5864\n",
      "Epoch 215/500\n",
      "2/2 [==============================] - 0s 3ms/step - loss: 23.2968 - mae: 23.2968\n",
      "Epoch 216/500\n",
      "2/2 [==============================] - 0s 4ms/step - loss: 13.3703 - mae: 13.3703\n",
      "Epoch 217/500\n",
      "2/2 [==============================] - 0s 3ms/step - loss: 9.8638 - mae: 9.8638\n",
      "Epoch 218/500\n",
      "2/2 [==============================] - 0s 3ms/step - loss: 12.5427 - mae: 12.5427\n",
      "Epoch 219/500\n",
      "2/2 [==============================] - 0s 3ms/step - loss: 4.9535 - mae: 4.9535\n",
      "Epoch 220/500\n",
      "2/2 [==============================] - 0s 3ms/step - loss: 7.1186 - mae: 7.1186\n",
      "Epoch 221/500\n",
      "2/2 [==============================] - 0s 4ms/step - loss: 35.4640 - mae: 35.4640\n",
      "Epoch 222/500\n",
      "2/2 [==============================] - 0s 3ms/step - loss: 34.8714 - mae: 34.8714\n",
      "Epoch 223/500\n",
      "2/2 [==============================] - 0s 5ms/step - loss: 7.9845 - mae: 7.9845\n",
      "Epoch 224/500\n",
      "2/2 [==============================] - 0s 5ms/step - loss: 14.7006 - mae: 14.7006\n",
      "Epoch 225/500\n",
      "2/2 [==============================] - 0s 4ms/step - loss: 16.7204 - mae: 16.7204\n",
      "Epoch 226/500\n",
      "2/2 [==============================] - 0s 4ms/step - loss: 15.9336 - mae: 15.9336\n",
      "Epoch 227/500\n",
      "2/2 [==============================] - 0s 4ms/step - loss: 16.1642 - mae: 16.1642\n",
      "Epoch 228/500\n",
      "2/2 [==============================] - 0s 5ms/step - loss: 13.9320 - mae: 13.9320\n",
      "Epoch 229/500\n",
      "2/2 [==============================] - 0s 4ms/step - loss: 18.0512 - mae: 18.0512\n",
      "Epoch 230/500\n",
      "2/2 [==============================] - 0s 3ms/step - loss: 15.6142 - mae: 15.6142\n",
      "Epoch 231/500\n",
      "2/2 [==============================] - 0s 3ms/step - loss: 21.2038 - mae: 21.2038\n",
      "Epoch 232/500\n",
      "2/2 [==============================] - 0s 3ms/step - loss: 25.2739 - mae: 25.2739\n",
      "Epoch 233/500\n",
      "2/2 [==============================] - 0s 4ms/step - loss: 16.3196 - mae: 16.3196\n",
      "Epoch 234/500\n",
      "2/2 [==============================] - 0s 3ms/step - loss: 7.2784 - mae: 7.2784\n",
      "Epoch 235/500\n",
      "2/2 [==============================] - 0s 3ms/step - loss: 16.9706 - mae: 16.9706\n",
      "Epoch 236/500\n",
      "2/2 [==============================] - 0s 3ms/step - loss: 7.1277 - mae: 7.1277\n",
      "Epoch 237/500\n",
      "2/2 [==============================] - 0s 4ms/step - loss: 9.2107 - mae: 9.2107\n",
      "Epoch 238/500\n",
      "2/2 [==============================] - 0s 3ms/step - loss: 8.1012 - mae: 8.1012\n",
      "Epoch 239/500\n",
      "2/2 [==============================] - 0s 3ms/step - loss: 17.0509 - mae: 17.0509\n",
      "Epoch 240/500\n",
      "2/2 [==============================] - 0s 3ms/step - loss: 8.8667 - mae: 8.8667\n",
      "Epoch 241/500\n",
      "2/2 [==============================] - 0s 4ms/step - loss: 13.1709 - mae: 13.1709\n",
      "Epoch 242/500\n",
      "2/2 [==============================] - 0s 3ms/step - loss: 8.7929 - mae: 8.7929\n",
      "Epoch 243/500\n",
      "2/2 [==============================] - 0s 4ms/step - loss: 18.8097 - mae: 18.8097\n",
      "Epoch 244/500\n",
      "2/2 [==============================] - 0s 4ms/step - loss: 14.0575 - mae: 14.0575\n",
      "Epoch 245/500\n",
      "2/2 [==============================] - 0s 3ms/step - loss: 14.6865 - mae: 14.6865\n",
      "Epoch 246/500\n",
      "2/2 [==============================] - 0s 3ms/step - loss: 15.8089 - mae: 15.8089\n",
      "Epoch 247/500\n",
      "2/2 [==============================] - 0s 3ms/step - loss: 17.6863 - mae: 17.6863\n",
      "Epoch 248/500\n",
      "2/2 [==============================] - 0s 3ms/step - loss: 13.2416 - mae: 13.2416\n",
      "Epoch 249/500\n",
      "2/2 [==============================] - 0s 4ms/step - loss: 14.5111 - mae: 14.5111\n",
      "Epoch 250/500\n",
      "2/2 [==============================] - 0s 3ms/step - loss: 23.2374 - mae: 23.2374\n",
      "Epoch 251/500\n",
      "2/2 [==============================] - 0s 3ms/step - loss: 9.3032 - mae: 9.3032\n",
      "Epoch 252/500\n",
      "2/2 [==============================] - 0s 4ms/step - loss: 36.6397 - mae: 36.6397\n",
      "Epoch 253/500\n",
      "2/2 [==============================] - 0s 3ms/step - loss: 21.8095 - mae: 21.8095\n",
      "Epoch 254/500\n",
      "2/2 [==============================] - 0s 3ms/step - loss: 7.2829 - mae: 7.2829\n",
      "Epoch 255/500\n",
      "2/2 [==============================] - 0s 4ms/step - loss: 24.6997 - mae: 24.6997\n",
      "Epoch 256/500\n",
      "2/2 [==============================] - 0s 3ms/step - loss: 12.4193 - mae: 12.4193\n",
      "Epoch 257/500\n",
      "2/2 [==============================] - 0s 4ms/step - loss: 10.5814 - mae: 10.5814\n",
      "Epoch 258/500\n",
      "2/2 [==============================] - 0s 3ms/step - loss: 14.4791 - mae: 14.4791\n",
      "Epoch 259/500\n",
      "2/2 [==============================] - 0s 3ms/step - loss: 8.6173 - mae: 8.6173\n",
      "Epoch 260/500\n",
      "2/2 [==============================] - 0s 4ms/step - loss: 43.0301 - mae: 43.0301\n",
      "Epoch 261/500\n",
      "2/2 [==============================] - 0s 4ms/step - loss: 18.4487 - mae: 18.4487\n",
      "Epoch 262/500\n",
      "2/2 [==============================] - 0s 3ms/step - loss: 6.8883 - mae: 6.8883\n",
      "Epoch 263/500\n",
      "2/2 [==============================] - 0s 3ms/step - loss: 13.7258 - mae: 13.7258\n",
      "Epoch 264/500\n",
      "2/2 [==============================] - 0s 3ms/step - loss: 21.0238 - mae: 21.0238\n",
      "Epoch 265/500\n",
      "2/2 [==============================] - 0s 3ms/step - loss: 19.3564 - mae: 19.3564\n",
      "Epoch 266/500\n",
      "2/2 [==============================] - 0s 3ms/step - loss: 11.4828 - mae: 11.4828\n",
      "Epoch 267/500\n",
      "2/2 [==============================] - 0s 4ms/step - loss: 7.5353 - mae: 7.5353\n",
      "Epoch 268/500\n",
      "2/2 [==============================] - 0s 4ms/step - loss: 21.6537 - mae: 21.6537\n",
      "Epoch 269/500\n",
      "2/2 [==============================] - 0s 4ms/step - loss: 33.1518 - mae: 33.1518\n",
      "Epoch 270/500\n",
      "2/2 [==============================] - 0s 3ms/step - loss: 9.8184 - mae: 9.8184\n",
      "Epoch 271/500\n",
      "2/2 [==============================] - 0s 3ms/step - loss: 7.7146 - mae: 7.7146\n",
      "Epoch 272/500\n",
      "2/2 [==============================] - 0s 3ms/step - loss: 28.4649 - mae: 28.4649\n",
      "Epoch 273/500\n",
      "2/2 [==============================] - 0s 3ms/step - loss: 7.4373 - mae: 7.4373\n",
      "Epoch 274/500\n",
      "2/2 [==============================] - 0s 5ms/step - loss: 6.3329 - mae: 6.3329\n",
      "Epoch 275/500\n",
      "2/2 [==============================] - 0s 4ms/step - loss: 31.8915 - mae: 31.8915\n",
      "Epoch 276/500\n",
      "2/2 [==============================] - 0s 3ms/step - loss: 4.6722 - mae: 4.6722\n",
      "Epoch 277/500\n",
      "2/2 [==============================] - 0s 3ms/step - loss: 19.7707 - mae: 19.7707\n",
      "Epoch 278/500\n",
      "2/2 [==============================] - 0s 3ms/step - loss: 6.4907 - mae: 6.4907\n",
      "Epoch 279/500\n",
      "2/2 [==============================] - 0s 3ms/step - loss: 18.6941 - mae: 18.6941\n",
      "Epoch 280/500\n",
      "2/2 [==============================] - 0s 3ms/step - loss: 29.4178 - mae: 29.4178\n",
      "Epoch 281/500\n",
      "2/2 [==============================] - 0s 3ms/step - loss: 7.4253 - mae: 7.4253\n",
      "Epoch 282/500\n",
      "2/2 [==============================] - 0s 3ms/step - loss: 14.3635 - mae: 14.3635\n",
      "Epoch 283/500\n",
      "2/2 [==============================] - 0s 3ms/step - loss: 10.4210 - mae: 10.4210\n",
      "Epoch 284/500\n",
      "2/2 [==============================] - 0s 3ms/step - loss: 25.2410 - mae: 25.2410\n",
      "Epoch 285/500\n",
      "2/2 [==============================] - 0s 3ms/step - loss: 16.1632 - mae: 16.1632\n",
      "Epoch 286/500\n",
      "2/2 [==============================] - 0s 3ms/step - loss: 5.2464 - mae: 5.2464\n",
      "Epoch 287/500\n",
      "2/2 [==============================] - 0s 3ms/step - loss: 20.7539 - mae: 20.7539\n",
      "Epoch 288/500\n",
      "2/2 [==============================] - 0s 3ms/step - loss: 27.8400 - mae: 27.8400\n",
      "Epoch 289/500\n",
      "2/2 [==============================] - 0s 3ms/step - loss: 10.9648 - mae: 10.9648\n",
      "Epoch 290/500\n",
      "2/2 [==============================] - 0s 4ms/step - loss: 16.1587 - mae: 16.1587\n",
      "Epoch 291/500\n",
      "2/2 [==============================] - 0s 3ms/step - loss: 16.3214 - mae: 16.3214\n",
      "Epoch 292/500\n",
      "2/2 [==============================] - 0s 3ms/step - loss: 14.5861 - mae: 14.5861\n",
      "Epoch 293/500\n",
      "2/2 [==============================] - 0s 3ms/step - loss: 15.9129 - mae: 15.9129\n",
      "Epoch 294/500\n",
      "2/2 [==============================] - 0s 4ms/step - loss: 24.0307 - mae: 24.0307\n",
      "Epoch 295/500\n",
      "2/2 [==============================] - 0s 3ms/step - loss: 14.8220 - mae: 14.8220\n",
      "Epoch 296/500\n",
      "2/2 [==============================] - 0s 3ms/step - loss: 4.3520 - mae: 4.3520\n",
      "Epoch 297/500\n",
      "2/2 [==============================] - 0s 3ms/step - loss: 11.8493 - mae: 11.8493\n",
      "Epoch 298/500\n",
      "2/2 [==============================] - 0s 4ms/step - loss: 23.7321 - mae: 23.7321\n",
      "Epoch 299/500\n",
      "2/2 [==============================] - 0s 4ms/step - loss: 19.0826 - mae: 19.0826\n",
      "Epoch 300/500\n",
      "2/2 [==============================] - 0s 3ms/step - loss: 8.8360 - mae: 8.8360\n",
      "Epoch 301/500\n",
      "2/2 [==============================] - 0s 4ms/step - loss: 15.9363 - mae: 15.9363\n",
      "Epoch 302/500\n",
      "2/2 [==============================] - 0s 3ms/step - loss: 5.7364 - mae: 5.7364\n",
      "Epoch 303/500\n",
      "2/2 [==============================] - 0s 4ms/step - loss: 22.9526 - mae: 22.9526\n",
      "Epoch 304/500\n",
      "2/2 [==============================] - 0s 4ms/step - loss: 26.1301 - mae: 26.1301\n",
      "Epoch 305/500\n",
      "2/2 [==============================] - 0s 3ms/step - loss: 9.6090 - mae: 9.6090\n",
      "Epoch 306/500\n",
      "2/2 [==============================] - 0s 3ms/step - loss: 17.8907 - mae: 17.8907\n",
      "Epoch 307/500\n",
      "2/2 [==============================] - 0s 4ms/step - loss: 9.7754 - mae: 9.7754\n",
      "Epoch 308/500\n",
      "2/2 [==============================] - 0s 3ms/step - loss: 20.5086 - mae: 20.5086\n",
      "Epoch 309/500\n",
      "2/2 [==============================] - 0s 3ms/step - loss: 13.7327 - mae: 13.7327\n",
      "Epoch 310/500\n",
      "2/2 [==============================] - 0s 3ms/step - loss: 6.1368 - mae: 6.1368\n",
      "Epoch 311/500\n",
      "2/2 [==============================] - 0s 3ms/step - loss: 13.9275 - mae: 13.9275\n",
      "Epoch 312/500\n",
      "2/2 [==============================] - 0s 3ms/step - loss: 30.6129 - mae: 30.6129\n",
      "Epoch 313/500\n",
      "2/2 [==============================] - 0s 7ms/step - loss: 4.2548 - mae: 4.2548\n",
      "Epoch 314/500\n",
      "2/2 [==============================] - 0s 6ms/step - loss: 10.3439 - mae: 10.3439\n",
      "Epoch 315/500\n",
      "2/2 [==============================] - 0s 3ms/step - loss: 19.4441 - mae: 19.4441\n",
      "Epoch 316/500\n",
      "2/2 [==============================] - 0s 3ms/step - loss: 6.6337 - mae: 6.6337\n",
      "Epoch 317/500\n",
      "2/2 [==============================] - 0s 3ms/step - loss: 33.4318 - mae: 33.4318\n",
      "Epoch 318/500\n",
      "2/2 [==============================] - 0s 3ms/step - loss: 19.2215 - mae: 19.2215\n",
      "Epoch 319/500\n",
      "2/2 [==============================] - 0s 3ms/step - loss: 5.5874 - mae: 5.5874\n",
      "Epoch 320/500\n",
      "2/2 [==============================] - 0s 3ms/step - loss: 23.4280 - mae: 23.4280\n",
      "Epoch 321/500\n",
      "2/2 [==============================] - 0s 3ms/step - loss: 17.8178 - mae: 17.8178\n",
      "Epoch 322/500\n",
      "2/2 [==============================] - 0s 3ms/step - loss: 12.5346 - mae: 12.5346\n",
      "Epoch 323/500\n",
      "2/2 [==============================] - 0s 3ms/step - loss: 18.5965 - mae: 18.5965\n",
      "Epoch 324/500\n",
      "2/2 [==============================] - 0s 4ms/step - loss: 18.0873 - mae: 18.0873\n",
      "Epoch 325/500\n",
      "2/2 [==============================] - 0s 4ms/step - loss: 7.2319 - mae: 7.2319\n",
      "Epoch 326/500\n",
      "2/2 [==============================] - 0s 3ms/step - loss: 22.0927 - mae: 22.0927\n",
      "Epoch 327/500\n",
      "2/2 [==============================] - 0s 3ms/step - loss: 22.0733 - mae: 22.0733\n",
      "Epoch 328/500\n",
      "2/2 [==============================] - 0s 3ms/step - loss: 13.2692 - mae: 13.2692\n",
      "Epoch 329/500\n",
      "2/2 [==============================] - 0s 3ms/step - loss: 16.1665 - mae: 16.1665\n",
      "Epoch 330/500\n",
      "2/2 [==============================] - 0s 3ms/step - loss: 11.9382 - mae: 11.9382\n",
      "Epoch 331/500\n",
      "2/2 [==============================] - 0s 4ms/step - loss: 22.1180 - mae: 22.1180\n",
      "Epoch 332/500\n",
      "2/2 [==============================] - 0s 3ms/step - loss: 21.2039 - mae: 21.2039\n",
      "Epoch 333/500\n",
      "2/2 [==============================] - 0s 3ms/step - loss: 12.0150 - mae: 12.0150\n",
      "Epoch 334/500\n",
      "2/2 [==============================] - 0s 3ms/step - loss: 8.3081 - mae: 8.3081\n",
      "Epoch 335/500\n",
      "2/2 [==============================] - 0s 4ms/step - loss: 12.4957 - mae: 12.4957\n",
      "Epoch 336/500\n",
      "2/2 [==============================] - 0s 3ms/step - loss: 32.1736 - mae: 32.1736\n",
      "Epoch 337/500\n",
      "2/2 [==============================] - 0s 5ms/step - loss: 10.4109 - mae: 10.4109\n",
      "Epoch 338/500\n",
      "2/2 [==============================] - 0s 3ms/step - loss: 19.5948 - mae: 19.5948\n",
      "Epoch 339/500\n",
      "2/2 [==============================] - 0s 4ms/step - loss: 35.3311 - mae: 35.3311\n",
      "Epoch 340/500\n",
      "2/2 [==============================] - 0s 3ms/step - loss: 10.5529 - mae: 10.5529\n",
      "Epoch 341/500\n",
      "2/2 [==============================] - 0s 4ms/step - loss: 10.0921 - mae: 10.0921\n",
      "Epoch 342/500\n",
      "2/2 [==============================] - 0s 4ms/step - loss: 13.3261 - mae: 13.3261\n",
      "Epoch 343/500\n",
      "2/2 [==============================] - 0s 3ms/step - loss: 11.0950 - mae: 11.0950\n",
      "Epoch 344/500\n",
      "2/2 [==============================] - 0s 3ms/step - loss: 9.9720 - mae: 9.9720\n",
      "Epoch 345/500\n",
      "2/2 [==============================] - 0s 4ms/step - loss: 31.0274 - mae: 31.0274\n",
      "Epoch 346/500\n",
      "2/2 [==============================] - 0s 3ms/step - loss: 10.7189 - mae: 10.7189\n",
      "Epoch 347/500\n",
      "2/2 [==============================] - 0s 3ms/step - loss: 25.7393 - mae: 25.7393\n",
      "Epoch 348/500\n",
      "2/2 [==============================] - 0s 3ms/step - loss: 12.8761 - mae: 12.8761\n",
      "Epoch 349/500\n",
      "2/2 [==============================] - 0s 5ms/step - loss: 13.1875 - mae: 13.1875\n",
      "Epoch 350/500\n",
      "2/2 [==============================] - 0s 4ms/step - loss: 15.4581 - mae: 15.4581\n",
      "Epoch 351/500\n",
      "2/2 [==============================] - 0s 3ms/step - loss: 32.9679 - mae: 32.9679\n",
      "Epoch 352/500\n",
      "2/2 [==============================] - 0s 3ms/step - loss: 14.2301 - mae: 14.2301\n",
      "Epoch 353/500\n",
      "2/2 [==============================] - 0s 3ms/step - loss: 15.9410 - mae: 15.9410\n",
      "Epoch 354/500\n",
      "2/2 [==============================] - 0s 3ms/step - loss: 19.1287 - mae: 19.1287\n",
      "Epoch 355/500\n",
      "2/2 [==============================] - 0s 3ms/step - loss: 34.0133 - mae: 34.0133\n",
      "Epoch 356/500\n",
      "2/2 [==============================] - 0s 3ms/step - loss: 7.7076 - mae: 7.7076\n",
      "Epoch 357/500\n",
      "2/2 [==============================] - 0s 3ms/step - loss: 25.1207 - mae: 25.1207\n",
      "Epoch 358/500\n",
      "2/2 [==============================] - 0s 4ms/step - loss: 22.5816 - mae: 22.5816\n",
      "Epoch 359/500\n",
      "2/2 [==============================] - 0s 3ms/step - loss: 9.5464 - mae: 9.5464\n",
      "Epoch 360/500\n",
      "2/2 [==============================] - 0s 3ms/step - loss: 20.7010 - mae: 20.7010\n",
      "Epoch 361/500\n",
      "2/2 [==============================] - 0s 4ms/step - loss: 10.0796 - mae: 10.0796\n",
      "Epoch 362/500\n",
      "2/2 [==============================] - 0s 3ms/step - loss: 7.1117 - mae: 7.1117\n",
      "Epoch 363/500\n",
      "2/2 [==============================] - 0s 3ms/step - loss: 25.9074 - mae: 25.9074\n",
      "Epoch 364/500\n",
      "2/2 [==============================] - 0s 3ms/step - loss: 32.3612 - mae: 32.3612\n",
      "Epoch 365/500\n",
      "2/2 [==============================] - 0s 4ms/step - loss: 10.3941 - mae: 10.3941\n",
      "Epoch 366/500\n",
      "2/2 [==============================] - 0s 3ms/step - loss: 11.8793 - mae: 11.8793\n",
      "Epoch 367/500\n",
      "2/2 [==============================] - 0s 3ms/step - loss: 30.1596 - mae: 30.1596\n",
      "Epoch 368/500\n",
      "2/2 [==============================] - 0s 3ms/step - loss: 9.8707 - mae: 9.8707\n",
      "Epoch 369/500\n",
      "2/2 [==============================] - 0s 4ms/step - loss: 15.0718 - mae: 15.0718\n",
      "Epoch 370/500\n",
      "2/2 [==============================] - 0s 3ms/step - loss: 14.7148 - mae: 14.7148\n",
      "Epoch 371/500\n",
      "2/2 [==============================] - 0s 4ms/step - loss: 23.4747 - mae: 23.4747\n",
      "Epoch 372/500\n",
      "2/2 [==============================] - 0s 3ms/step - loss: 12.9310 - mae: 12.9310\n",
      "Epoch 373/500\n",
      "2/2 [==============================] - 0s 3ms/step - loss: 8.8615 - mae: 8.8615\n",
      "Epoch 374/500\n",
      "2/2 [==============================] - 0s 4ms/step - loss: 5.9030 - mae: 5.9030\n",
      "Epoch 375/500\n",
      "2/2 [==============================] - 0s 3ms/step - loss: 14.8164 - mae: 14.8164\n",
      "Epoch 376/500\n",
      "2/2 [==============================] - 0s 3ms/step - loss: 16.5691 - mae: 16.5691\n",
      "Epoch 377/500\n",
      "2/2 [==============================] - 0s 3ms/step - loss: 6.1020 - mae: 6.1020\n",
      "Epoch 378/500\n",
      "2/2 [==============================] - 0s 4ms/step - loss: 18.3390 - mae: 18.3390\n",
      "Epoch 379/500\n",
      "2/2 [==============================] - 0s 3ms/step - loss: 34.7520 - mae: 34.7520\n",
      "Epoch 380/500\n",
      "2/2 [==============================] - 0s 3ms/step - loss: 30.9447 - mae: 30.9447\n",
      "Epoch 381/500\n",
      "2/2 [==============================] - 0s 3ms/step - loss: 7.5967 - mae: 7.5967\n",
      "Epoch 382/500\n",
      "2/2 [==============================] - 0s 3ms/step - loss: 11.2893 - mae: 11.2893\n",
      "Epoch 383/500\n",
      "2/2 [==============================] - 0s 4ms/step - loss: 6.5373 - mae: 6.5373\n",
      "Epoch 384/500\n",
      "2/2 [==============================] - 0s 3ms/step - loss: 6.0619 - mae: 6.0619\n",
      "Epoch 385/500\n",
      "2/2 [==============================] - 0s 6ms/step - loss: 12.1406 - mae: 12.1406\n",
      "Epoch 386/500\n",
      "2/2 [==============================] - 0s 5ms/step - loss: 19.9871 - mae: 19.9871\n",
      "Epoch 387/500\n",
      "2/2 [==============================] - 0s 3ms/step - loss: 24.3515 - mae: 24.3515\n",
      "Epoch 388/500\n",
      "2/2 [==============================] - 0s 4ms/step - loss: 7.6971 - mae: 7.6971\n",
      "Epoch 389/500\n",
      "2/2 [==============================] - 0s 3ms/step - loss: 14.3641 - mae: 14.3641\n",
      "Epoch 390/500\n",
      "2/2 [==============================] - 0s 3ms/step - loss: 8.2599 - mae: 8.2599\n",
      "Epoch 391/500\n",
      "2/2 [==============================] - 0s 4ms/step - loss: 15.5058 - mae: 15.5058\n",
      "Epoch 392/500\n",
      "2/2 [==============================] - 0s 3ms/step - loss: 17.1378 - mae: 17.1378\n",
      "Epoch 393/500\n",
      "2/2 [==============================] - 0s 3ms/step - loss: 10.5092 - mae: 10.5092\n",
      "Epoch 394/500\n",
      "2/2 [==============================] - 0s 3ms/step - loss: 14.0778 - mae: 14.0778\n",
      "Epoch 395/500\n",
      "2/2 [==============================] - 0s 3ms/step - loss: 28.4082 - mae: 28.4082\n",
      "Epoch 396/500\n",
      "2/2 [==============================] - 0s 3ms/step - loss: 8.6079 - mae: 8.6079\n",
      "Epoch 397/500\n",
      "2/2 [==============================] - 0s 3ms/step - loss: 11.3297 - mae: 11.3297\n",
      "Epoch 398/500\n",
      "2/2 [==============================] - 0s 3ms/step - loss: 6.9844 - mae: 6.9844\n",
      "Epoch 399/500\n",
      "2/2 [==============================] - 0s 3ms/step - loss: 14.1372 - mae: 14.1372\n",
      "Epoch 400/500\n",
      "2/2 [==============================] - 0s 4ms/step - loss: 6.7691 - mae: 6.7691\n",
      "Epoch 401/500\n",
      "2/2 [==============================] - 0s 3ms/step - loss: 8.0114 - mae: 8.0114\n",
      "Epoch 402/500\n",
      "2/2 [==============================] - 0s 3ms/step - loss: 16.4157 - mae: 16.4157\n",
      "Epoch 403/500\n",
      "2/2 [==============================] - 0s 4ms/step - loss: 12.3971 - mae: 12.3971\n",
      "Epoch 404/500\n",
      "2/2 [==============================] - 0s 3ms/step - loss: 22.9791 - mae: 22.9791\n",
      "Epoch 405/500\n",
      "2/2 [==============================] - 0s 4ms/step - loss: 18.0014 - mae: 18.0014\n",
      "Epoch 406/500\n",
      "2/2 [==============================] - 0s 3ms/step - loss: 7.0746 - mae: 7.0746\n",
      "Epoch 407/500\n",
      "2/2 [==============================] - 0s 3ms/step - loss: 12.5852 - mae: 12.5852\n",
      "Epoch 408/500\n",
      "2/2 [==============================] - 0s 4ms/step - loss: 5.7064 - mae: 5.7064\n",
      "Epoch 409/500\n",
      "2/2 [==============================] - 0s 4ms/step - loss: 31.0234 - mae: 31.0234\n",
      "Epoch 410/500\n",
      "2/2 [==============================] - 0s 3ms/step - loss: 9.3235 - mae: 9.3235\n",
      "Epoch 411/500\n",
      "2/2 [==============================] - 0s 3ms/step - loss: 14.9211 - mae: 14.9211\n",
      "Epoch 412/500\n",
      "2/2 [==============================] - 0s 3ms/step - loss: 21.8190 - mae: 21.8190\n",
      "Epoch 413/500\n",
      "2/2 [==============================] - 0s 3ms/step - loss: 12.4956 - mae: 12.4956\n",
      "Epoch 414/500\n",
      "2/2 [==============================] - 0s 3ms/step - loss: 6.1277 - mae: 6.1277\n",
      "Epoch 415/500\n",
      "2/2 [==============================] - 0s 4ms/step - loss: 13.2592 - mae: 13.2592\n",
      "Epoch 416/500\n",
      "2/2 [==============================] - 0s 3ms/step - loss: 27.5013 - mae: 27.5013\n",
      "Epoch 417/500\n",
      "2/2 [==============================] - 0s 6ms/step - loss: 10.4583 - mae: 10.4583\n",
      "Epoch 418/500\n",
      "2/2 [==============================] - 0s 4ms/step - loss: 12.8922 - mae: 12.8922\n",
      "Epoch 419/500\n",
      "2/2 [==============================] - 0s 3ms/step - loss: 15.9322 - mae: 15.9322\n",
      "Epoch 420/500\n",
      "2/2 [==============================] - 0s 3ms/step - loss: 24.8434 - mae: 24.8434\n",
      "Epoch 421/500\n",
      "2/2 [==============================] - 0s 3ms/step - loss: 17.1585 - mae: 17.1585\n",
      "Epoch 422/500\n",
      "2/2 [==============================] - 0s 4ms/step - loss: 7.8540 - mae: 7.8540\n",
      "Epoch 423/500\n",
      "2/2 [==============================] - 0s 3ms/step - loss: 25.4705 - mae: 25.4705\n",
      "Epoch 424/500\n",
      "2/2 [==============================] - 0s 3ms/step - loss: 14.9005 - mae: 14.9005\n",
      "Epoch 425/500\n",
      "2/2 [==============================] - 0s 3ms/step - loss: 7.1239 - mae: 7.1239\n",
      "Epoch 426/500\n",
      "2/2 [==============================] - 0s 3ms/step - loss: 20.0854 - mae: 20.0854\n",
      "Epoch 427/500\n",
      "2/2 [==============================] - 0s 3ms/step - loss: 6.2787 - mae: 6.2787\n",
      "Epoch 428/500\n",
      "2/2 [==============================] - 0s 3ms/step - loss: 12.6053 - mae: 12.6053\n",
      "Epoch 429/500\n",
      "2/2 [==============================] - 0s 3ms/step - loss: 12.0376 - mae: 12.0376\n",
      "Epoch 430/500\n",
      "2/2 [==============================] - 0s 4ms/step - loss: 11.0448 - mae: 11.0448\n",
      "Epoch 431/500\n",
      "2/2 [==============================] - 0s 3ms/step - loss: 9.9830 - mae: 9.9830\n",
      "Epoch 432/500\n",
      "2/2 [==============================] - 0s 4ms/step - loss: 13.2971 - mae: 13.2971\n",
      "Epoch 433/500\n",
      "2/2 [==============================] - 0s 3ms/step - loss: 11.4117 - mae: 11.4117\n",
      "Epoch 434/500\n",
      "2/2 [==============================] - 0s 3ms/step - loss: 30.4421 - mae: 30.4421\n",
      "Epoch 435/500\n",
      "2/2 [==============================] - 0s 3ms/step - loss: 10.5365 - mae: 10.5365\n",
      "Epoch 436/500\n",
      "2/2 [==============================] - 0s 3ms/step - loss: 28.9333 - mae: 28.9333\n",
      "Epoch 437/500\n",
      "2/2 [==============================] - 0s 3ms/step - loss: 8.6699 - mae: 8.6699\n",
      "Epoch 438/500\n",
      "2/2 [==============================] - 0s 4ms/step - loss: 12.7583 - mae: 12.7583\n",
      "Epoch 439/500\n",
      "2/2 [==============================] - 0s 3ms/step - loss: 33.7080 - mae: 33.7080\n",
      "Epoch 440/500\n",
      "2/2 [==============================] - 0s 4ms/step - loss: 15.1579 - mae: 15.1579\n",
      "Epoch 441/500\n",
      "2/2 [==============================] - 0s 3ms/step - loss: 17.5289 - mae: 17.5289\n",
      "Epoch 442/500\n",
      "2/2 [==============================] - 0s 3ms/step - loss: 22.3967 - mae: 22.3967\n",
      "Epoch 443/500\n",
      "2/2 [==============================] - 0s 4ms/step - loss: 23.3670 - mae: 23.3670\n",
      "Epoch 444/500\n",
      "2/2 [==============================] - 0s 3ms/step - loss: 10.8313 - mae: 10.8313\n",
      "Epoch 445/500\n",
      "2/2 [==============================] - 0s 3ms/step - loss: 14.9770 - mae: 14.9770\n",
      "Epoch 446/500\n",
      "2/2 [==============================] - 0s 4ms/step - loss: 18.0842 - mae: 18.0842\n",
      "Epoch 447/500\n",
      "2/2 [==============================] - 0s 4ms/step - loss: 5.3819 - mae: 5.3819\n",
      "Epoch 448/500\n",
      "2/2 [==============================] - 0s 6ms/step - loss: 10.1391 - mae: 10.1391\n",
      "Epoch 449/500\n",
      "2/2 [==============================] - 0s 5ms/step - loss: 14.0740 - mae: 14.0740\n",
      "Epoch 450/500\n",
      "2/2 [==============================] - 0s 4ms/step - loss: 16.8479 - mae: 16.8479\n",
      "Epoch 451/500\n",
      "2/2 [==============================] - 0s 3ms/step - loss: 14.3285 - mae: 14.3285\n",
      "Epoch 452/500\n",
      "2/2 [==============================] - 0s 3ms/step - loss: 30.6772 - mae: 30.6772\n",
      "Epoch 453/500\n",
      "2/2 [==============================] - 0s 4ms/step - loss: 8.4144 - mae: 8.4144\n",
      "Epoch 454/500\n",
      "2/2 [==============================] - 0s 3ms/step - loss: 27.5876 - mae: 27.5876\n",
      "Epoch 455/500\n",
      "2/2 [==============================] - 0s 3ms/step - loss: 10.1054 - mae: 10.1054\n",
      "Epoch 456/500\n",
      "2/2 [==============================] - 0s 3ms/step - loss: 14.5538 - mae: 14.5538\n",
      "Epoch 457/500\n",
      "2/2 [==============================] - 0s 3ms/step - loss: 17.7040 - mae: 17.7040\n",
      "Epoch 458/500\n",
      "2/2 [==============================] - 0s 3ms/step - loss: 14.0232 - mae: 14.0232\n",
      "Epoch 459/500\n",
      "2/2 [==============================] - 0s 3ms/step - loss: 25.9013 - mae: 25.9013\n",
      "Epoch 460/500\n",
      "2/2 [==============================] - 0s 3ms/step - loss: 15.0408 - mae: 15.0408\n",
      "Epoch 461/500\n",
      "2/2 [==============================] - 0s 3ms/step - loss: 11.9383 - mae: 11.9383\n",
      "Epoch 462/500\n",
      "2/2 [==============================] - 0s 3ms/step - loss: 13.2746 - mae: 13.2746\n",
      "Epoch 463/500\n",
      "2/2 [==============================] - 0s 4ms/step - loss: 29.4572 - mae: 29.4572\n",
      "Epoch 464/500\n",
      "2/2 [==============================] - 0s 3ms/step - loss: 3.2923 - mae: 3.2923\n",
      "Epoch 465/500\n",
      "2/2 [==============================] - 0s 3ms/step - loss: 40.3097 - mae: 40.3097\n",
      "Epoch 466/500\n",
      "2/2 [==============================] - 0s 4ms/step - loss: 18.3932 - mae: 18.3932\n",
      "Epoch 467/500\n",
      "2/2 [==============================] - 0s 3ms/step - loss: 8.5928 - mae: 8.5928\n",
      "Epoch 468/500\n",
      "2/2 [==============================] - 0s 4ms/step - loss: 6.6712 - mae: 6.6712\n",
      "Epoch 469/500\n",
      "2/2 [==============================] - 0s 4ms/step - loss: 29.4520 - mae: 29.4520\n",
      "Epoch 470/500\n",
      "2/2 [==============================] - 0s 4ms/step - loss: 15.3282 - mae: 15.3282\n",
      "Epoch 471/500\n",
      "2/2 [==============================] - 0s 4ms/step - loss: 12.2193 - mae: 12.2193\n",
      "Epoch 472/500\n",
      "2/2 [==============================] - 0s 4ms/step - loss: 15.4783 - mae: 15.4783\n",
      "Epoch 473/500\n",
      "2/2 [==============================] - 0s 5ms/step - loss: 15.4789 - mae: 15.4789\n",
      "Epoch 474/500\n",
      "2/2 [==============================] - 0s 5ms/step - loss: 9.1894 - mae: 9.1894\n",
      "Epoch 475/500\n",
      "2/2 [==============================] - 0s 3ms/step - loss: 7.1516 - mae: 7.1516\n",
      "Epoch 476/500\n",
      "2/2 [==============================] - 0s 4ms/step - loss: 11.9071 - mae: 11.9071\n",
      "Epoch 477/500\n",
      "2/2 [==============================] - 0s 3ms/step - loss: 27.9311 - mae: 27.9311\n",
      "Epoch 478/500\n",
      "2/2 [==============================] - 0s 3ms/step - loss: 8.6774 - mae: 8.6774\n",
      "Epoch 479/500\n",
      "2/2 [==============================] - 0s 3ms/step - loss: 12.1084 - mae: 12.1084\n",
      "Epoch 480/500\n",
      "2/2 [==============================] - 0s 3ms/step - loss: 18.3821 - mae: 18.3821\n",
      "Epoch 481/500\n",
      "2/2 [==============================] - 0s 4ms/step - loss: 16.2344 - mae: 16.2344\n",
      "Epoch 482/500\n",
      "2/2 [==============================] - 0s 4ms/step - loss: 15.0330 - mae: 15.0330\n",
      "Epoch 483/500\n",
      "2/2 [==============================] - 0s 4ms/step - loss: 20.4885 - mae: 20.4885\n",
      "Epoch 484/500\n",
      "2/2 [==============================] - 0s 4ms/step - loss: 35.2595 - mae: 35.2595\n",
      "Epoch 485/500\n",
      "2/2 [==============================] - 0s 3ms/step - loss: 13.9024 - mae: 13.9024\n",
      "Epoch 486/500\n",
      "2/2 [==============================] - 0s 3ms/step - loss: 6.9931 - mae: 6.9931\n",
      "Epoch 487/500\n",
      "2/2 [==============================] - 0s 4ms/step - loss: 6.2967 - mae: 6.2967\n",
      "Epoch 488/500\n",
      "2/2 [==============================] - 0s 3ms/step - loss: 29.7108 - mae: 29.7108\n",
      "Epoch 489/500\n",
      "2/2 [==============================] - 0s 3ms/step - loss: 12.6939 - mae: 12.6939\n",
      "Epoch 490/500\n",
      "2/2 [==============================] - 0s 3ms/step - loss: 13.1246 - mae: 13.1246\n",
      "Epoch 491/500\n",
      "2/2 [==============================] - 0s 3ms/step - loss: 24.4001 - mae: 24.4001\n",
      "Epoch 492/500\n",
      "2/2 [==============================] - 0s 4ms/step - loss: 18.5253 - mae: 18.5253\n",
      "Epoch 493/500\n",
      "2/2 [==============================] - 0s 3ms/step - loss: 4.7754 - mae: 4.7754\n",
      "Epoch 494/500\n",
      "2/2 [==============================] - 0s 4ms/step - loss: 11.9000 - mae: 11.9000\n",
      "Epoch 495/500\n",
      "2/2 [==============================] - 0s 3ms/step - loss: 13.7566 - mae: 13.7566\n",
      "Epoch 496/500\n",
      "2/2 [==============================] - 0s 3ms/step - loss: 12.9391 - mae: 12.9391\n",
      "Epoch 497/500\n",
      "2/2 [==============================] - 0s 6ms/step - loss: 18.0989 - mae: 18.0989\n",
      "Epoch 498/500\n",
      "2/2 [==============================] - 0s 5ms/step - loss: 22.4888 - mae: 22.4888\n",
      "Epoch 499/500\n",
      "2/2 [==============================] - 0s 4ms/step - loss: 8.3086 - mae: 8.3086\n",
      "Epoch 500/500\n",
      "2/2 [==============================] - 0s 4ms/step - loss: 14.0418 - mae: 14.0418\n"
     ]
    },
    {
     "data": {
      "text/plain": [
       "<keras.callbacks.History at 0x1b8b9549130>"
      ]
     },
     "execution_count": 49,
     "metadata": {},
     "output_type": "execute_result"
    }
   ],
   "source": [
    "model_3 = tf.keras.Sequential([\n",
    "    tf.keras.layers.Dense(10),\n",
    "    tf.keras.layers.Dense(1),\n",
    "])\n",
    "\n",
    "model_3.compile(metrics=['mae'],\n",
    "                loss=tf.keras.losses.mae,\n",
    "                optimizer=tf.keras.optimizers.SGD()\n",
    "                )\n",
    "\n",
    "model_3.fit(tf.expand_dims(X_train,axis = -1),y_train,epochs = 500)"
   ]
  },
  {
   "cell_type": "code",
   "execution_count": 50,
   "metadata": {},
   "outputs": [
    {
     "name": "stdout",
     "output_type": "stream",
     "text": [
      "1/1 [==============================] - 0s 32ms/step\n"
     ]
    },
    {
     "data": {
      "image/png": "[encoded data removed]",
      "text/plain": [
       "<Figure size 1000x700 with 1 Axes>"
      ]
     },
     "metadata": {},
     "output_type": "display_data"
    }
   ],
   "source": [
    "y_pred_3 = model_3.predict(X_test)\n",
    "\n",
    "plot_predictions(predictions=y_pred_3)"
   ]
  },
  {
   "cell_type": "code",
   "execution_count": 51,
   "metadata": {},
   "outputs": [],
   "source": [
    "mae_3 = mae(y_test,y_pred_3)\n",
    "mse_3 = mse(y_test,y_pred_3)"
   ]
  },
  {
   "cell_type": "code",
   "execution_count": 52,
   "metadata": {},
   "outputs": [
    {
     "data": {
      "text/plain": [
       "(<tf.Tensor: shape=(), dtype=float32, numpy=67.358574>,\n",
       " <tf.Tensor: shape=(), dtype=float32, numpy=4620.1377>)"
      ]
     },
     "execution_count": 52,
     "metadata": {},
     "output_type": "execute_result"
    }
   ],
   "source": [
    "mae_3,mse_3"
   ]
  },
  {
   "cell_type": "markdown",
   "metadata": {},
   "source": [
    "### Comparing the results of our experiments\n",
    "\n",
    "We ran few experiment lets compare the results "
   ]
  },
  {
   "cell_type": "code",
   "execution_count": 53,
   "metadata": {},
   "outputs": [
    {
     "data": {
      "text/html": [
       "<div>\n",
       "<style scoped>\n",
       "    .dataframe tbody tr th:only-of-type {\n",
       "        vertical-align: middle;\n",
       "    }\n",
       "\n",
       "    .dataframe tbody tr th {\n",
       "        vertical-align: top;\n",
       "    }\n",
       "\n",
       "    .dataframe thead th {\n",
       "        text-align: right;\n",
       "    }\n",
       "</style>\n",
       "<table border=\"1\" class=\"dataframe\">\n",
       "  <thead>\n",
       "    <tr style=\"text-align: right;\">\n",
       "      <th></th>\n",
       "      <th>model</th>\n",
       "      <th>mae</th>\n",
       "      <th>mse</th>\n",
       "    </tr>\n",
       "  </thead>\n",
       "  <tbody>\n",
       "    <tr>\n",
       "      <th>0</th>\n",
       "      <td>model_1</td>\n",
       "      <td>14.844645</td>\n",
       "      <td>221.181595</td>\n",
       "    </tr>\n",
       "    <tr>\n",
       "      <th>1</th>\n",
       "      <td>model_2</td>\n",
       "      <td>17.559278</td>\n",
       "      <td>322.806641</td>\n",
       "    </tr>\n",
       "    <tr>\n",
       "      <th>2</th>\n",
       "      <td>model_3</td>\n",
       "      <td>67.358574</td>\n",
       "      <td>4620.137695</td>\n",
       "    </tr>\n",
       "  </tbody>\n",
       "</table>\n",
       "</div>"
      ],
      "text/plain": [
       "     model        mae          mse\n",
       "0  model_1  14.844645   221.181595\n",
       "1  model_2  17.559278   322.806641\n",
       "2  model_3  67.358574  4620.137695"
      ]
     },
     "execution_count": 53,
     "metadata": {},
     "output_type": "execute_result"
    }
   ],
   "source": [
    "import pandas as pd \n",
    "\n",
    "model_results = [['model_1',mae_1.numpy(),mse_1.numpy()],\n",
    "                 ['model_2',mae_2.numpy(),mse_2.numpy()],\n",
    "                 ['model_3',mae_3.numpy(),mse_3.numpy()]]\n",
    "\n",
    "all_results = pd.DataFrame(model_results,columns=['model','mae','mse'])\n",
    "all_results"
   ]
  },
  {
   "cell_type": "markdown",
   "metadata": {},
   "source": [
    "Looks like model_2 performed the best "
   ]
  },
  {
   "cell_type": "markdown",
   "metadata": {},
   "source": [
    "## Tracking your experiment \n",
    "\n",
    "📖**Resource:** \n",
    "* TensorBoard  \n",
    "* weights and Biases "
   ]
  },
  {
   "cell_type": "markdown",
   "metadata": {},
   "source": [
    "### Saving our models\n",
    "\n",
    "There are 2 main formats to save our model \n",
    "\n",
    "* The  SavedModel format \n",
    "* The HDF5 format \n"
   ]
  },
  {
   "cell_type": "code",
   "execution_count": 54,
   "metadata": {},
   "outputs": [
    {
     "name": "stdout",
     "output_type": "stream",
     "text": [
      "INFO:tensorflow:Assets written to: best_model_SavedModel_format\\assets\n"
     ]
    }
   ],
   "source": [
    "model_2.save('best_model_SavedModel_format')"
   ]
  },
  {
   "cell_type": "code",
   "execution_count": 55,
   "metadata": {},
   "outputs": [],
   "source": [
    "model_2.save('best_model_HDF5_format.h5')"
   ]
  },
  {
   "cell_type": "markdown",
   "metadata": {},
   "source": [
    "## Loading the model back "
   ]
  },
  {
   "cell_type": "code",
   "execution_count": 56,
   "metadata": {},
   "outputs": [
    {
     "name": "stdout",
     "output_type": "stream",
     "text": [
      "Model: \"sequential_5\"\n",
      "_________________________________________________________________\n",
      " Layer (type)                Output Shape              Param #   \n",
      "=================================================================\n",
      " dense_8 (Dense)             (None, 10)                20        \n",
      "                                                                 \n",
      " dense_9 (Dense)             (None, 1)                 11        \n",
      "                                                                 \n",
      "=================================================================\n",
      "Total params: 31\n",
      "Trainable params: 31\n",
      "Non-trainable params: 0\n",
      "_________________________________________________________________\n"
     ]
    }
   ],
   "source": [
    "#  load in savedModel format \n",
    "\n",
    "loaded_SavedModel_format = tf.keras.models.load_model('best_model_SavedModel_format')\n",
    "loaded_SavedModel_format.summary() # type: ignore"
   ]
  },
  {
   "cell_type": "code",
   "execution_count": 57,
   "metadata": {},
   "outputs": [
    {
     "name": "stdout",
     "output_type": "stream",
     "text": [
      "1/1 [==============================] - 0s 18ms/step\n"
     ]
    },
    {
     "name": "stdout",
     "output_type": "stream",
     "text": [
      "1/1 [==============================] - 0s 31ms/step\n"
     ]
    },
    {
     "data": {
      "text/plain": [
       "array([[ True],\n",
       "       [ True],\n",
       "       [ True],\n",
       "       [ True],\n",
       "       [ True],\n",
       "       [ True],\n",
       "       [ True],\n",
       "       [ True],\n",
       "       [ True],\n",
       "       [ True]])"
      ]
     },
     "execution_count": 57,
     "metadata": {},
     "output_type": "execute_result"
    }
   ],
   "source": [
    "model_2_preds = model_2.predict(X_test)\n",
    "\n",
    "loaded_SavedModel_format_preds = loaded_SavedModel_format.predict(X_test) # type: ignore\n",
    "\n",
    "model_2_preds == loaded_SavedModel_format_preds"
   ]
  },
  {
   "cell_type": "code",
   "execution_count": 58,
   "metadata": {},
   "outputs": [
    {
     "name": "stdout",
     "output_type": "stream",
     "text": [
      "Model: \"sequential_5\"\n",
      "_________________________________________________________________\n",
      " Layer (type)                Output Shape              Param #   \n",
      "=================================================================\n",
      " dense_8 (Dense)             (None, 10)                20        \n",
      "                                                                 \n",
      " dense_9 (Dense)             (None, 1)                 11        \n",
      "                                                                 \n",
      "=================================================================\n",
      "Total params: 31\n",
      "Trainable params: 31\n",
      "Non-trainable params: 0\n",
      "_________________________________________________________________\n"
     ]
    }
   ],
   "source": [
    "#  Loading in the model using .h5 format \n",
    "\n",
    "loaded_h5_model = tf.keras.models.load_model('best_model_HDF5_format.h5')\n",
    "loaded_h5_model.summary() # type: ignore"
   ]
  },
  {
   "cell_type": "code",
   "execution_count": 59,
   "metadata": {},
   "outputs": [
    {
     "name": "stdout",
     "output_type": "stream",
     "text": [
      "1/1 [==============================] - 0s 14ms/step\n",
      "1/1 [==============================] - 0s 31ms/step\n"
     ]
    },
    {
     "data": {
      "text/plain": [
       "array([[ True],\n",
       "       [ True],\n",
       "       [ True],\n",
       "       [ True],\n",
       "       [ True],\n",
       "       [ True],\n",
       "       [ True],\n",
       "       [ True],\n",
       "       [ True],\n",
       "       [ True]])"
      ]
     },
     "execution_count": 59,
     "metadata": {},
     "output_type": "execute_result"
    }
   ],
   "source": [
    "model_2_preds = model_2.predict(X_test)\n",
    "loaded_h5_model_preds = loaded_h5_model.predict(X_test) # type: ignore \n",
    "model_2_preds == loaded_h5_model_preds"
   ]
  },
  {
   "cell_type": "code",
   "execution_count": null,
   "metadata": {},
   "outputs": [],
   "source": []
  }
 ],
 "metadata": {
  "kernelspec": {
   "display_name": "tf_dml",
   "language": "python",
   "name": "python3"
  },
  "language_info": {
   "codemirror_mode": {
    "name": "ipython",
    "version": 3
   },
   "file_extension": ".py",
   "mimetype": "text/x-python",
   "name": "python",
   "nbconvert_exporter": "python",
   "pygments_lexer": "ipython3",
   "version": "3.9.19"
  }
 },
 "nbformat": 4,
 "nbformat_minor": 2
}
